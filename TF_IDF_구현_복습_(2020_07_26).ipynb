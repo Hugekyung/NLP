{
  "nbformat": 4,
  "nbformat_minor": 0,
  "metadata": {
    "colab": {
      "name": "TF-IDF 구현 복습..(2020.07.26).ipynb",
      "provenance": [],
      "collapsed_sections": [],
      "authorship_tag": "ABX9TyOzsDFMn4xhQOz36pLHbu6l",
      "include_colab_link": true
    },
    "kernelspec": {
      "name": "python3",
      "display_name": "Python 3"
    }
  },
  "cells": [
    {
      "cell_type": "markdown",
      "metadata": {
        "id": "view-in-github",
        "colab_type": "text"
      },
      "source": [
        "<a href=\"https://colab.research.google.com/github/Hugekyung/NLP/blob/master/TF_IDF_%EA%B5%AC%ED%98%84_%EB%B3%B5%EC%8A%B5_(2020_07_26).ipynb\" target=\"_parent\"><img src=\"https://colab.research.google.com/assets/colab-badge.svg\" alt=\"Open In Colab\"/></a>"
      ]
    },
    {
      "cell_type": "code",
      "metadata": {
        "id": "aPbF9RFnmhKp",
        "colab_type": "code",
        "colab": {}
      },
      "source": [
        "import pandas as pd\n",
        "from math import log\n",
        "import numpy as np"
      ],
      "execution_count": 1,
      "outputs": []
    },
    {
      "cell_type": "code",
      "metadata": {
        "id": "2qRpzigWmbTQ",
        "colab_type": "code",
        "colab": {}
      },
      "source": [
        "d1 = \"The cat sat on my face I hate a cat\"\n",
        "d2 = \"The dog sat on my bed I love a dog\""
      ],
      "execution_count": 2,
      "outputs": []
    },
    {
      "cell_type": "code",
      "metadata": {
        "id": "GiHUxLvjmnnr",
        "colab_type": "code",
        "colab": {
          "base_uri": "https://localhost:8080/",
          "height": 87
        },
        "outputId": "80bff6c5-0e9c-4aaf-ea59-f36f84a4149d"
      },
      "source": [
        "d1_tokens = d1.split()\n",
        "d2_tokens = d2.split()\n",
        "d3_tokens = d1_tokens + d2_tokens\n",
        "print(d1_tokens)\n",
        "print(d2_tokens)\n",
        "print(d3_tokens)\n",
        "t_uni = np.unique(d3_tokens)\n",
        "print(t_uni)"
      ],
      "execution_count": 3,
      "outputs": [
        {
          "output_type": "stream",
          "text": [
            "['The', 'cat', 'sat', 'on', 'my', 'face', 'I', 'hate', 'a', 'cat']\n",
            "['The', 'dog', 'sat', 'on', 'my', 'bed', 'I', 'love', 'a', 'dog']\n",
            "['The', 'cat', 'sat', 'on', 'my', 'face', 'I', 'hate', 'a', 'cat', 'The', 'dog', 'sat', 'on', 'my', 'bed', 'I', 'love', 'a', 'dog']\n",
            "['I' 'The' 'a' 'bed' 'cat' 'dog' 'face' 'hate' 'love' 'my' 'on' 'sat']\n"
          ],
          "name": "stdout"
        }
      ]
    },
    {
      "cell_type": "markdown",
      "metadata": {
        "id": "j60ZJgnPnS1z",
        "colab_type": "text"
      },
      "source": [
        "TF : 특정 문서내 토큰등장빈도 = 토큰빈도 / 문서내 전체 토큰 개수"
      ]
    },
    {
      "cell_type": "code",
      "metadata": {
        "id": "J5AAUFeJmvvk",
        "colab_type": "code",
        "colab": {
          "base_uri": "https://localhost:8080/",
          "height": 34
        },
        "outputId": "e8b7e6ee-56cb-46e9-8053-ad72b554de73"
      },
      "source": [
        "# d1문서내 토큰빈도 수 구하기\n",
        "tf1 = []\n",
        "\n",
        "for i in range(len(t_uni)):\n",
        "    tf = d1_tokens.count(t_uni[i])\n",
        "    tf1.append(tf)\n",
        "# print(t_uni)\n",
        "tf1 = np.array(tf1)\n",
        "tf1"
      ],
      "execution_count": 29,
      "outputs": [
        {
          "output_type": "execute_result",
          "data": {
            "text/plain": [
              "array([1, 1, 1, 0, 2, 0, 1, 1, 0, 1, 1, 1])"
            ]
          },
          "metadata": {
            "tags": []
          },
          "execution_count": 29
        }
      ]
    },
    {
      "cell_type": "code",
      "metadata": {
        "id": "q4QgcNS4z9MZ",
        "colab_type": "code",
        "colab": {
          "base_uri": "https://localhost:8080/",
          "height": 34
        },
        "outputId": "702b7e61-00a6-4277-bc2d-b0bfef29b232"
      },
      "source": [
        "# d2문서내 토큰빈도 수 구하기\n",
        "tf2 = []\n",
        "\n",
        "for i in range(len(t_uni)):\n",
        "    tf = d2_tokens.count(t_uni[i])\n",
        "    tf2.append(tf)\n",
        "# print(t_uni)\n",
        "tf2 = np.array(tf2)\n",
        "tf2"
      ],
      "execution_count": 28,
      "outputs": [
        {
          "output_type": "execute_result",
          "data": {
            "text/plain": [
              "array([1, 1, 1, 1, 0, 2, 0, 0, 1, 1, 1, 1])"
            ]
          },
          "metadata": {
            "tags": []
          },
          "execution_count": 28
        }
      ]
    },
    {
      "cell_type": "code",
      "metadata": {
        "id": "UHv0Xy4Q0PSc",
        "colab_type": "code",
        "colab": {
          "base_uri": "https://localhost:8080/",
          "height": 34
        },
        "outputId": "759b8f28-d474-4eea-fd59-9fd6a18b470e"
      },
      "source": [
        "# TF 구하기\n",
        "TF1 = []\n",
        "for i in range(len(tf1)):\n",
        "    TF1.append(tf1[i] / len(d1_tokens))\n",
        "TF1 = np.array(TF1)\n",
        "TF1"
      ],
      "execution_count": 31,
      "outputs": [
        {
          "output_type": "execute_result",
          "data": {
            "text/plain": [
              "array([0.1, 0.1, 0.1, 0. , 0.2, 0. , 0.1, 0.1, 0. , 0.1, 0.1, 0.1])"
            ]
          },
          "metadata": {
            "tags": []
          },
          "execution_count": 31
        }
      ]
    },
    {
      "cell_type": "code",
      "metadata": {
        "id": "i-zgnMJl1Gk1",
        "colab_type": "code",
        "colab": {
          "base_uri": "https://localhost:8080/",
          "height": 34
        },
        "outputId": "716c676c-38e4-427c-f9cf-0dae2ad131d4"
      },
      "source": [
        "# TF 구하기\n",
        "TF2 = []\n",
        "for i in range(len(tf2)):\n",
        "    TF2.append(tf2[i] / len(d2_tokens))\n",
        "TF2 = np.array(TF2)\n",
        "TF2"
      ],
      "execution_count": 32,
      "outputs": [
        {
          "output_type": "execute_result",
          "data": {
            "text/plain": [
              "array([0.1, 0.1, 0.1, 0.1, 0. , 0.2, 0. , 0. , 0.1, 0.1, 0.1, 0.1])"
            ]
          },
          "metadata": {
            "tags": []
          },
          "execution_count": 32
        }
      ]
    },
    {
      "cell_type": "markdown",
      "metadata": {
        "id": "6mbcXQuSp7vd",
        "colab_type": "text"
      },
      "source": [
        "DF : 특정 토큰이 등장한 문서 수"
      ]
    },
    {
      "cell_type": "code",
      "metadata": {
        "id": "GMoLudHbwq45",
        "colab_type": "code",
        "colab": {
          "base_uri": "https://localhost:8080/",
          "height": 34
        },
        "outputId": "05480a2e-074c-4c1d-85de-cd4808e0e248"
      },
      "source": [
        "# 각 단어가 d1과 d2에 등장했는지 -> 1 or 2\n",
        "df1 = []\n",
        "for i in range(len(t_uni)):\n",
        "    df = 0\n",
        "    if t_uni[i] in d1_tokens and t_uni[i] in d2_tokens:\n",
        "        df += 2\n",
        "        df1.append(df)\n",
        "    elif t_uni[i] in d1_tokens or t_uni[i] in d2_tokens:\n",
        "        df += 1\n",
        "        df1.append(df)\n",
        "# print(d1_tokens)\n",
        "# print(d2_tokens)\n",
        "# print(t_uni)\n",
        "df1 = np.array(df1)\n",
        "df1"
      ],
      "execution_count": 33,
      "outputs": [
        {
          "output_type": "execute_result",
          "data": {
            "text/plain": [
              "array([2, 2, 2, 1, 1, 1, 1, 1, 1, 2, 2, 2])"
            ]
          },
          "metadata": {
            "tags": []
          },
          "execution_count": 33
        }
      ]
    },
    {
      "cell_type": "markdown",
      "metadata": {
        "id": "bZg2U1TM51Nz",
        "colab_type": "text"
      },
      "source": [
        "IDF : log(N / (1 + DF))"
      ]
    },
    {
      "cell_type": "code",
      "metadata": {
        "id": "UclYm7Pi5zBa",
        "colab_type": "code",
        "colab": {
          "base_uri": "https://localhost:8080/",
          "height": 70
        },
        "outputId": "c4133159-176e-4df3-ad83-bfd36669d93f"
      },
      "source": [
        "N = 2\n",
        "idf = np.log(2 / (df1))\n",
        "idf"
      ],
      "execution_count": 38,
      "outputs": [
        {
          "output_type": "execute_result",
          "data": {
            "text/plain": [
              "array([0.        , 0.        , 0.        , 0.69314718, 0.69314718,\n",
              "       0.69314718, 0.69314718, 0.69314718, 0.69314718, 0.        ,\n",
              "       0.        , 0.        ])"
            ]
          },
          "metadata": {
            "tags": []
          },
          "execution_count": 38
        }
      ]
    },
    {
      "cell_type": "markdown",
      "metadata": {
        "id": "yiuxMqFnEaLI",
        "colab_type": "text"
      },
      "source": [
        "TF-IDF"
      ]
    },
    {
      "cell_type": "code",
      "metadata": {
        "id": "1lzN1Sg1EW37",
        "colab_type": "code",
        "colab": {
          "base_uri": "https://localhost:8080/",
          "height": 70
        },
        "outputId": "2d17f315-d336-42d3-9cd2-d2e437f441e1"
      },
      "source": [
        "# d1문서\n",
        "tfidf1 = TF1 * idf\n",
        "tfidf1"
      ],
      "execution_count": 39,
      "outputs": [
        {
          "output_type": "execute_result",
          "data": {
            "text/plain": [
              "array([0.        , 0.        , 0.        , 0.        , 0.13862944,\n",
              "       0.        , 0.06931472, 0.06931472, 0.        , 0.        ,\n",
              "       0.        , 0.        ])"
            ]
          },
          "metadata": {
            "tags": []
          },
          "execution_count": 39
        }
      ]
    },
    {
      "cell_type": "code",
      "metadata": {
        "id": "mHAfc7pqEqou",
        "colab_type": "code",
        "colab": {
          "base_uri": "https://localhost:8080/",
          "height": 70
        },
        "outputId": "c358e9f7-293e-4f9d-9b71-d8dc3e29c2b6"
      },
      "source": [
        "# d2문서\n",
        "tfidf2 = TF2 * idf\n",
        "tfidf2"
      ],
      "execution_count": 40,
      "outputs": [
        {
          "output_type": "execute_result",
          "data": {
            "text/plain": [
              "array([0.        , 0.        , 0.        , 0.06931472, 0.        ,\n",
              "       0.13862944, 0.        , 0.        , 0.06931472, 0.        ,\n",
              "       0.        , 0.        ])"
            ]
          },
          "metadata": {
            "tags": []
          },
          "execution_count": 40
        }
      ]
    },
    {
      "cell_type": "code",
      "metadata": {
        "id": "gFEhTMGWEwb1",
        "colab_type": "code",
        "colab": {}
      },
      "source": [
        "result = pd.DataFrame(t_uni)\n",
        "result.rename({0:'토큰'},axis=1,inplace = True)\n",
        "result['tfidf1'] = tfidf1\n",
        "result['tfidf2'] = tfidf2"
      ],
      "execution_count": 48,
      "outputs": []
    },
    {
      "cell_type": "code",
      "metadata": {
        "id": "FyavIMHmE9Jn",
        "colab_type": "code",
        "colab": {
          "base_uri": "https://localhost:8080/",
          "height": 402
        },
        "outputId": "8c760e7a-d6dc-40df-dc1a-69e0d2675ed4"
      },
      "source": [
        "result"
      ],
      "execution_count": 49,
      "outputs": [
        {
          "output_type": "execute_result",
          "data": {
            "text/html": [
              "<div>\n",
              "<style scoped>\n",
              "    .dataframe tbody tr th:only-of-type {\n",
              "        vertical-align: middle;\n",
              "    }\n",
              "\n",
              "    .dataframe tbody tr th {\n",
              "        vertical-align: top;\n",
              "    }\n",
              "\n",
              "    .dataframe thead th {\n",
              "        text-align: right;\n",
              "    }\n",
              "</style>\n",
              "<table border=\"1\" class=\"dataframe\">\n",
              "  <thead>\n",
              "    <tr style=\"text-align: right;\">\n",
              "      <th></th>\n",
              "      <th>토큰</th>\n",
              "      <th>tfidf1</th>\n",
              "      <th>tfidf2</th>\n",
              "    </tr>\n",
              "  </thead>\n",
              "  <tbody>\n",
              "    <tr>\n",
              "      <th>0</th>\n",
              "      <td>I</td>\n",
              "      <td>0.000000</td>\n",
              "      <td>0.000000</td>\n",
              "    </tr>\n",
              "    <tr>\n",
              "      <th>1</th>\n",
              "      <td>The</td>\n",
              "      <td>0.000000</td>\n",
              "      <td>0.000000</td>\n",
              "    </tr>\n",
              "    <tr>\n",
              "      <th>2</th>\n",
              "      <td>a</td>\n",
              "      <td>0.000000</td>\n",
              "      <td>0.000000</td>\n",
              "    </tr>\n",
              "    <tr>\n",
              "      <th>3</th>\n",
              "      <td>bed</td>\n",
              "      <td>0.000000</td>\n",
              "      <td>0.069315</td>\n",
              "    </tr>\n",
              "    <tr>\n",
              "      <th>4</th>\n",
              "      <td>cat</td>\n",
              "      <td>0.138629</td>\n",
              "      <td>0.000000</td>\n",
              "    </tr>\n",
              "    <tr>\n",
              "      <th>5</th>\n",
              "      <td>dog</td>\n",
              "      <td>0.000000</td>\n",
              "      <td>0.138629</td>\n",
              "    </tr>\n",
              "    <tr>\n",
              "      <th>6</th>\n",
              "      <td>face</td>\n",
              "      <td>0.069315</td>\n",
              "      <td>0.000000</td>\n",
              "    </tr>\n",
              "    <tr>\n",
              "      <th>7</th>\n",
              "      <td>hate</td>\n",
              "      <td>0.069315</td>\n",
              "      <td>0.000000</td>\n",
              "    </tr>\n",
              "    <tr>\n",
              "      <th>8</th>\n",
              "      <td>love</td>\n",
              "      <td>0.000000</td>\n",
              "      <td>0.069315</td>\n",
              "    </tr>\n",
              "    <tr>\n",
              "      <th>9</th>\n",
              "      <td>my</td>\n",
              "      <td>0.000000</td>\n",
              "      <td>0.000000</td>\n",
              "    </tr>\n",
              "    <tr>\n",
              "      <th>10</th>\n",
              "      <td>on</td>\n",
              "      <td>0.000000</td>\n",
              "      <td>0.000000</td>\n",
              "    </tr>\n",
              "    <tr>\n",
              "      <th>11</th>\n",
              "      <td>sat</td>\n",
              "      <td>0.000000</td>\n",
              "      <td>0.000000</td>\n",
              "    </tr>\n",
              "  </tbody>\n",
              "</table>\n",
              "</div>"
            ],
            "text/plain": [
              "      토큰    tfidf1    tfidf2\n",
              "0      I  0.000000  0.000000\n",
              "1    The  0.000000  0.000000\n",
              "2      a  0.000000  0.000000\n",
              "3    bed  0.000000  0.069315\n",
              "4    cat  0.138629  0.000000\n",
              "5    dog  0.000000  0.138629\n",
              "6   face  0.069315  0.000000\n",
              "7   hate  0.069315  0.000000\n",
              "8   love  0.000000  0.069315\n",
              "9     my  0.000000  0.000000\n",
              "10    on  0.000000  0.000000\n",
              "11   sat  0.000000  0.000000"
            ]
          },
          "metadata": {
            "tags": []
          },
          "execution_count": 49
        }
      ]
    },
    {
      "cell_type": "code",
      "metadata": {
        "id": "5asbqsjDFZAw",
        "colab_type": "code",
        "colab": {}
      },
      "source": [
        ""
      ],
      "execution_count": null,
      "outputs": []
    }
  ]
}