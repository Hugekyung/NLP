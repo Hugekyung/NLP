{
  "nbformat": 4,
  "nbformat_minor": 0,
  "metadata": {
    "kernelspec": {
      "display_name": "Python 3",
      "language": "python",
      "name": "python3"
    },
    "language_info": {
      "codemirror_mode": {
        "name": "ipython",
        "version": 3
      },
      "file_extension": ".py",
      "mimetype": "text/x-python",
      "name": "python",
      "nbconvert_exporter": "python",
      "pygments_lexer": "ipython3",
      "version": "3.7.6"
    },
    "colab": {
      "name": "NLP_test_tkyang.ipynb",
      "provenance": [],
      "include_colab_link": true
    }
  },
  "cells": [
    {
      "cell_type": "markdown",
      "metadata": {
        "id": "view-in-github",
        "colab_type": "text"
      },
      "source": [
        "<a href=\"https://colab.research.google.com/github/Hugekyung/NLP/blob/master/NLP_test_tkyang.ipynb\" target=\"_parent\"><img src=\"https://colab.research.google.com/assets/colab-badge.svg\" alt=\"Open In Colab\"/></a>"
      ]
    },
    {
      "cell_type": "markdown",
      "metadata": {
        "id": "wgQomcSh2nDw",
        "colab_type": "text"
      },
      "source": [
        "## 문제 1"
      ]
    },
    {
      "cell_type": "code",
      "metadata": {
        "id": "i5ZgLSlo2nDy",
        "colab_type": "code",
        "colab": {}
      },
      "source": [
        "import numpy as np\n",
        "import pandas as pd\n",
        "from collections import defaultdict\n",
        "\n",
        "d1 = \"우리반은 마라탕을 좋아해\"\n",
        "d2 = \"우리반은 마라탕을 더 이상 먹지않을거야 그래도 마라탕을 좋아해\""
      ],
      "execution_count": null,
      "outputs": []
    },
    {
      "cell_type": "code",
      "metadata": {
        "id": "izQHI5qs2nD3",
        "colab_type": "code",
        "colab": {},
        "outputId": "3bc969e3-c35f-4a68-83ec-72fb37c506af"
      },
      "source": [
        "docs = []\n",
        "docs.append(d1)\n",
        "docs.append(d2)\n",
        "\n",
        "print(docs)\n",
        "\n",
        "for d in docs:\n",
        "    docs_tokens = d.split()\n",
        "docs_tokens = np.unique(docs_tokens)\n",
        "docs_tokens"
      ],
      "execution_count": null,
      "outputs": [
        {
          "output_type": "stream",
          "text": [
            "['우리반은 마라탕을 좋아해', '우리반은 마라탕을 더 이상 먹지않을거야 그래도 마라탕을 좋아해']\n"
          ],
          "name": "stdout"
        },
        {
          "output_type": "execute_result",
          "data": {
            "text/plain": [
              "array(['그래도', '더', '마라탕을', '먹지않을거야', '우리반은', '이상', '좋아해'], dtype='<U6')"
            ]
          },
          "metadata": {
            "tags": []
          },
          "execution_count": 116
        }
      ]
    },
    {
      "cell_type": "code",
      "metadata": {
        "id": "Iv4Vwwku2nD_",
        "colab_type": "code",
        "colab": {},
        "outputId": "676f547b-f73d-4b04-c578-33ef46ed604b"
      },
      "source": [
        "words = defaultdict(lambda : len(words))\n",
        "[words[token] for token in docs_tokens]\n",
        "len(words)"
      ],
      "execution_count": null,
      "outputs": [
        {
          "output_type": "execute_result",
          "data": {
            "text/plain": [
              "7"
            ]
          },
          "metadata": {
            "tags": []
          },
          "execution_count": 107
        }
      ]
    },
    {
      "cell_type": "code",
      "metadata": {
        "id": "Sv4bLEec2nED",
        "colab_type": "code",
        "colab": {},
        "outputId": "6db66787-82de-4597-da4b-7357b4f97b34"
      },
      "source": [
        "TDM = np.zeros((len(words), len(docs)), dtype=int)\n",
        "for i, doc in enumerate(docs):\n",
        "    for token in doc.split():\n",
        "        TDM[words[token], i] += 1\n",
        "TDM"
      ],
      "execution_count": null,
      "outputs": [
        {
          "output_type": "execute_result",
          "data": {
            "text/plain": [
              "array([[0, 1],\n",
              "       [0, 1],\n",
              "       [1, 2],\n",
              "       [0, 1],\n",
              "       [1, 1],\n",
              "       [0, 1],\n",
              "       [1, 1],\n",
              "       [0, 0]])"
            ]
          },
          "metadata": {
            "tags": []
          },
          "execution_count": 118
        }
      ]
    },
    {
      "cell_type": "markdown",
      "metadata": {
        "id": "LmvLnZbw2nEG",
        "colab_type": "text"
      },
      "source": [
        "## 문제2"
      ]
    },
    {
      "cell_type": "code",
      "metadata": {
        "id": "fOyty-PL2nEG",
        "colab_type": "code",
        "colab": {},
        "outputId": "46664ea6-41c5-4e47-9f2a-fe995e6b84af"
      },
      "source": [
        "d1 = \"우리반은 마라탕을 좋아해\"\n",
        "d2 = \"우리반은 마라탕을 더 이상 먹지않을거야 그래도 마라탕을 좋아해\"\n",
        "d1_token = d1.split()\n",
        "d2_token = d2.split()\n",
        "d_uni = docs_tokens\n",
        "d_uni"
      ],
      "execution_count": null,
      "outputs": [
        {
          "output_type": "execute_result",
          "data": {
            "text/plain": [
              "array(['그래도', '더', '마라탕을', '먹지않을거야', '우리반은', '이상', '좋아해'], dtype='<U6')"
            ]
          },
          "metadata": {
            "tags": []
          },
          "execution_count": 79
        }
      ]
    },
    {
      "cell_type": "code",
      "metadata": {
        "id": "YeyGNTvY2nEJ",
        "colab_type": "code",
        "colab": {},
        "outputId": "74798655-d0b0-4b30-8fbd-876ef46a410e"
      },
      "source": [
        "# tf\n",
        "tf1 = []\n",
        "\n",
        "for i in range(len(d_uni)):\n",
        "    tf1.append(d1_token.count(d_uni[i]))\n",
        "\n",
        "tf2 = []\n",
        "for i in range(len(d_uni)):\n",
        "    tf2.append(d2_token.count(d_uni[i]))\n",
        "\n",
        "tf1 = np.array(tf1)\n",
        "tf2 = np.array(tf2)\n",
        "print(tf1, tf2)\n",
        "\n",
        "TF = []\n",
        "TF2 = []\n",
        "for i in range(len(tf1)):\n",
        "    TF.append(tf1[i]/len(d1_token))\n",
        "for i in range(len(tf1)):\n",
        "    TF2.append(tf2[i]/len(d2_token))\n",
        "TF = np.array(TF)\n",
        "TF2 = np.array(TF2)\n",
        "print(TF, TF2)"
      ],
      "execution_count": null,
      "outputs": [
        {
          "output_type": "stream",
          "text": [
            "[0 0 1 0 1 0 1] [1 1 2 1 1 1 1]\n",
            "[0.         0.         0.33333333 0.         0.33333333 0.\n",
            " 0.33333333] [0.125 0.125 0.25  0.125 0.125 0.125 0.125]\n"
          ],
          "name": "stdout"
        }
      ]
    },
    {
      "cell_type": "code",
      "metadata": {
        "id": "hUTX_J7t2nEM",
        "colab_type": "code",
        "colab": {},
        "outputId": "751e713a-ece9-4f48-bdb3-af9b02844a71"
      },
      "source": [
        "# df\n",
        "df1 = []\n",
        "\n",
        "for i in range(len(d_uni)):\n",
        "    df = 0\n",
        "    if d_uni[i] in d1_token and d_uni[i] in d2_token:\n",
        "        df += 2\n",
        "        df1.append(df)\n",
        "    elif d_uni[i] in d1_token or d_uni[i] in d2_token:\n",
        "        df += 1\n",
        "        df1.append(df)\n",
        "df1 = np.array(df1)\n",
        "df1"
      ],
      "execution_count": null,
      "outputs": [
        {
          "output_type": "execute_result",
          "data": {
            "text/plain": [
              "array([1, 1, 2, 1, 2, 1, 2])"
            ]
          },
          "metadata": {
            "tags": []
          },
          "execution_count": 95
        }
      ]
    },
    {
      "cell_type": "code",
      "metadata": {
        "id": "RLDFmRrX2nEQ",
        "colab_type": "code",
        "colab": {},
        "outputId": "ad500e73-e5f7-4fd5-ff48-1669fb4231f6"
      },
      "source": [
        "# idf\n",
        "from math import log\n",
        "N = len(docs)\n",
        "IDF = np.log(N/df1)\n",
        "IDF"
      ],
      "execution_count": null,
      "outputs": [
        {
          "output_type": "execute_result",
          "data": {
            "text/plain": [
              "array([0.69314718, 0.69314718, 0.        , 0.69314718, 0.        ,\n",
              "       0.69314718, 0.        ])"
            ]
          },
          "metadata": {
            "tags": []
          },
          "execution_count": 96
        }
      ]
    },
    {
      "cell_type": "code",
      "metadata": {
        "id": "TWhG6LPO2nET",
        "colab_type": "code",
        "colab": {},
        "outputId": "bbf48f94-3c7a-4f24-ee22-49c47b1ad07b"
      },
      "source": [
        "# TF-IDF\n",
        "print(TF * IDF)\n",
        "print(TF2 * IDF)"
      ],
      "execution_count": null,
      "outputs": [
        {
          "output_type": "stream",
          "text": [
            "[0. 0. 0. 0. 0. 0. 0.]\n",
            "[0.0866434 0.0866434 0.        0.0866434 0.        0.0866434 0.       ]\n"
          ],
          "name": "stdout"
        }
      ]
    },
    {
      "cell_type": "markdown",
      "metadata": {
        "id": "rqen-EA72nEX",
        "colab_type": "text"
      },
      "source": [
        "## 문제 3"
      ]
    },
    {
      "cell_type": "code",
      "metadata": {
        "id": "lvMyAkTT2nEY",
        "colab_type": "code",
        "colab": {}
      },
      "source": [
        "d1 = \"우리반은 마라탕을 좋아해\"\n",
        "d2 = \"우리반은 마라탕을 더 이상 먹지않을거야 그래도 마라탕을 좋아해\""
      ],
      "execution_count": null,
      "outputs": []
    },
    {
      "cell_type": "code",
      "metadata": {
        "id": "HDcHREj-2nEb",
        "colab_type": "code",
        "colab": {},
        "outputId": "e59aef75-0fc6-4e21-b1fb-30882177a8f2"
      },
      "source": [
        "# 자카드 유사도\n",
        "union = set(d1_token).union(d2_token)\n",
        "intersection = set(d1_token).intersection(d2_token)\n",
        "\n",
        "zaccard = len(intersection) / len(union)\n",
        "zaccard"
      ],
      "execution_count": null,
      "outputs": [
        {
          "output_type": "execute_result",
          "data": {
            "text/plain": [
              "0.42857142857142855"
            ]
          },
          "metadata": {
            "tags": []
          },
          "execution_count": 57
        }
      ]
    },
    {
      "cell_type": "markdown",
      "metadata": {
        "id": "los7LYbM2nEf",
        "colab_type": "text"
      },
      "source": [
        "## 문제 4"
      ]
    },
    {
      "cell_type": "markdown",
      "metadata": {
        "id": "BitLJJBi2nEf",
        "colab_type": "text"
      },
      "source": [
        "log\n",
        "log\n",
        "log\n",
        "log\n",
        "exp\n",
        "exp"
      ]
    }
  ]
}