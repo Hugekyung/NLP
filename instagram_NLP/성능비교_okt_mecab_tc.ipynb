{
 "cells": [
  {
   "cell_type": "markdown",
   "metadata": {},
   "source": [
    "# Okt, Mecab, tc모델의 형태소 분석 성능비교\n",
    "- 형태소 분석에 대한 비교를 위해 세 모델의 차이를 극명하게 보여주는 sample text 찾기\n",
    "- sample text을 넣었을 때, 결과 비교"
   ]
  },
  {
   "cell_type": "code",
   "execution_count": 1,
   "metadata": {},
   "outputs": [],
   "source": [
    "import pandas as pd\n",
    "import numpy as np\n",
    "import re\n",
    "import emoji\n",
    "import os\n",
    "\n",
    "from ekonlpy.tag import Mecab\n",
    "from konlpy.tag import Okt"
   ]
  },
  {
   "cell_type": "code",
   "execution_count": 6,
   "metadata": {},
   "outputs": [],
   "source": [
    "os.chdir(r'C:\\Users\\haech\\my_workspace\\tc_tagger')"
   ]
  },
  {
   "cell_type": "code",
   "execution_count": 7,
   "metadata": {},
   "outputs": [],
   "source": [
    "from tc_tagger.konlpy_tc.tag import Okt_edit\n",
    "from tc_tagger.TC_tagger import Tagger"
   ]
  },
  {
   "cell_type": "markdown",
   "metadata": {},
   "source": [
    "## input data 가져오기\n",
    "- 랜덤 text(gw_word)"
   ]
  },
  {
   "cell_type": "code",
   "execution_count": 8,
   "metadata": {},
   "outputs": [],
   "source": [
    "df_gw = pd.read_csv(r'C:\\Users\\haech\\gw_word.csv')"
   ]
  },
  {
   "cell_type": "code",
   "execution_count": 9,
   "metadata": {},
   "outputs": [],
   "source": [
    "df_gw['text'] = df_gw['content'] + df_gw['hashtag']"
   ]
  },
  {
   "cell_type": "code",
   "execution_count": 10,
   "metadata": {},
   "outputs": [
    {
     "data": {
      "text/plain": [
       "'우리 가족 #보양식 만드는 중 👌 추억의 #비전글라스'"
      ]
     },
     "execution_count": 10,
     "metadata": {},
     "output_type": "execute_result"
    }
   ],
   "source": [
    "gw_ls = list(df_gw['text'].dropna())\n",
    "gw_ls[1]"
   ]
  },
  {
   "cell_type": "markdown",
   "metadata": {},
   "source": [
    " - 국립국어원 모두의말뭉치 text"
   ]
  },
  {
   "cell_type": "code",
   "execution_count": 8,
   "metadata": {},
   "outputs": [],
   "source": [
    "corpus = pd.read_csv(r'C:\\Users\\haech\\corpus_modu.csv')\n",
    "corpus_ls = list(corpus['text'])"
   ]
  },
  {
   "cell_type": "code",
   "execution_count": 9,
   "metadata": {},
   "outputs": [
    {
     "data": {
      "text/plain": [
       "'#🍚 . . .역시 #광천순대 1호점 섞어 특 1 + 내장 보통 1 + 미니족발 #내장짱 #👍 #원래간은서비스 #사랑합니다 . .광천순대가 난 1호점만 갔었고, 친구는 2호점만 감 . .내가 알기론 1호점이 본점이고 서로 다른 사장님이래서 안갔었는데 #둘다 #존맛탱 #이라는 #친구 #다음엔 #2호점 #갈꺼다 #간다 #가자 . .#대전맛집 #순대국밥 #토렴 #족발 #미니족발 #동구맛집 #인동맛집'"
      ]
     },
     "execution_count": 9,
     "metadata": {},
     "output_type": "execute_result"
    }
   ],
   "source": [
    "corpus_ls[10]"
   ]
  },
  {
   "cell_type": "markdown",
   "metadata": {},
   "source": [
    "## 성능비교\n",
    "- mecab / Okt / tc 순으로 같은 sample text을 투입\n",
    "- 형태소 분석을 더 잘 하는 모델은 무엇인지, 그차이는 무엇인지 비교"
   ]
  },
  {
   "cell_type": "code",
   "execution_count": 16,
   "metadata": {},
   "outputs": [],
   "source": [
    "# sample text"
   ]
  },
  {
   "cell_type": "code",
   "execution_count": 10,
   "metadata": {},
   "outputs": [],
   "source": [
    "mecab = Mecab()\n",
    "okt = Okt()\n",
    "tc = Tagger()"
   ]
  },
  {
   "cell_type": "markdown",
   "metadata": {},
   "source": [
    "### 1. instagram sample text, gw_ls"
   ]
  },
  {
   "cell_type": "code",
   "execution_count": 18,
   "metadata": {},
   "outputs": [
    {
     "data": {
      "text/plain": [
       "'게스트하우스가 씹 인싸 집이야~~~~😁😁😁 #게스트하우스 #일본여행🇯🇵 #붕어빵모자 #강시모자 #자코텔 #자코텔게스트하우스 #형님들 #꿀잼 #😍'"
      ]
     },
     "execution_count": 18,
     "metadata": {},
     "output_type": "execute_result"
    }
   ],
   "source": [
    "gw_ls[629]"
   ]
  },
  {
   "cell_type": "code",
   "execution_count": 19,
   "metadata": {},
   "outputs": [
    {
     "data": {
      "text/plain": [
       "'간만에 본 연극 !진짜 간만에 연극봐서 너무 좋았자너~어찌저찌해서 나가서 표를 받았는데...다음휴가에 볼 수 있을까😂😂 #뮤지컬판타스틱 #노랑머리누나이뻐요 #휴가4일차'"
      ]
     },
     "execution_count": 19,
     "metadata": {},
     "output_type": "execute_result"
    }
   ],
   "source": [
    "gw_ls[6380]"
   ]
  },
  {
   "cell_type": "code",
   "execution_count": 20,
   "metadata": {},
   "outputs": [
    {
     "data": {
      "text/plain": [
       "'휴식이 필요해....#needsomerest #가평 #포상외박 #곧복귀 #시간아_멈춰라😭'"
      ]
     },
     "execution_count": 20,
     "metadata": {},
     "output_type": "execute_result"
    }
   ],
   "source": [
    "gw_ls[6384]"
   ]
  },
  {
   "cell_type": "code",
   "execution_count": 21,
   "metadata": {},
   "outputs": [
    {
     "data": {
      "text/plain": [
       "'한강보며 뛰기 재밌어😄.....#RIKU #마라톤 #10km #달리기 #여의나루 #서울시 #건대러닝크루 #신촌 #춘천닭갈비 #생각보다힘드네😅 #55분 #목표달성 #소아암환우돕기마라톤 #뿌듯'"
      ]
     },
     "execution_count": 21,
     "metadata": {},
     "output_type": "execute_result"
    }
   ],
   "source": [
    "gw_ls[6403]"
   ]
  },
  {
   "cell_type": "code",
   "execution_count": 22,
   "metadata": {},
   "outputs": [
    {
     "data": {
      "text/plain": [
       "'🌸꽃구경🌸.....#벚꽃 #개나리 #너무답답해서나옴'"
      ]
     },
     "execution_count": 22,
     "metadata": {},
     "output_type": "execute_result"
    }
   ],
   "source": [
    "gw_ls[6691]"
   ]
  },
  {
   "cell_type": "code",
   "execution_count": 23,
   "metadata": {},
   "outputs": [
    {
     "data": {
      "text/plain": [
       "'훌륭한 🐷의 삶.....#못먹는 #놈들의 #식사란'"
      ]
     },
     "execution_count": 23,
     "metadata": {},
     "output_type": "execute_result"
    }
   ],
   "source": [
    "gw_ls[6811]"
   ]
  },
  {
   "cell_type": "code",
   "execution_count": 81,
   "metadata": {},
   "outputs": [],
   "source": [
    "sample = '기다려주는 사람이있어 매우 행복한 밤이네요 #몸은쓰러질거같지만 #손목은끊어질거같지만 #다이어트중이지만 #그래도 #쇼트브레드 #먹으러갑니다👍 #럽스타그램❤️❤️ #괜찮아사랑이야 #맞팔받아요'\n",
    "sample2 = '#다이어트중이지만 #헬창이지만 #팔은커지고싶다 #어불성설#어제팔운동 🔥 운동 좋아하시는분들 서로 동기부여도 하고 소통해요😁😁 #좋반가요 #맞팔ㄱㄱ'"
   ]
  },
  {
   "cell_type": "code",
   "execution_count": 82,
   "metadata": {
    "scrolled": false
   },
   "outputs": [],
   "source": [
    "def Analaysis_result(text):\n",
    "    print('Mecab')\n",
    "    print('=====')\n",
    "    print(mecab.pos(text))\n",
    "    print('=======================================================================================================================================')\n",
    "    print('Okt')\n",
    "    print('=====')\n",
    "    print(okt.pos(text))\n",
    "    print('=======================================================================================================================================')\n",
    "    print('Tc')\n",
    "    print('=====')\n",
    "    print(tc.tag(text))"
   ]
  },
  {
   "cell_type": "code",
   "execution_count": 83,
   "metadata": {},
   "outputs": [
    {
     "data": {
      "text/plain": [
       "'기다려주는 사람이있어 매우 행복한 밤이네요 #몸은쓰러질거같지만 #손목은끊어질거같지만 #다이어트중이지만 #그래도 #쇼트브레드 #먹으러갑니다👍 #럽스타그램❤️❤️ #괜찮아사랑이야 #맞팔받아요'"
      ]
     },
     "execution_count": 83,
     "metadata": {},
     "output_type": "execute_result"
    }
   ],
   "source": [
    "sample"
   ]
  },
  {
   "cell_type": "code",
   "execution_count": 97,
   "metadata": {
    "scrolled": false
   },
   "outputs": [
    {
     "name": "stdout",
     "output_type": "stream",
     "text": [
      "Mecab\n",
      "=====\n",
      "[('#', 'SY'), ('다이어트', 'NNG'), ('중', 'NNG'), ('이', 'VCP'), ('지만', 'EC'), ('#', 'SY'), ('헬', 'NNP'), ('창', 'NNG'), ('이', 'VCP'), ('지만', 'EC'), ('#', 'SY'), ('팔', 'NNG'), ('은', 'JX'), ('커지', 'VV'), ('고', 'EC'), ('싶', 'VX'), ('다', 'EC'), ('#', 'SY'), ('어불성설', 'NNG'), ('#', 'SY'), ('어제', 'NNG'), ('팔', 'NR'), ('운동', 'NNG'), ('🔥', 'SY'), ('운동', 'NNG'), ('좋', 'VA'), ('아', 'EC'), ('하', 'VX'), ('시', 'EP'), ('는', 'ETM'), ('분', 'NNB'), ('들', 'XSN'), ('서로', 'MAG'), ('동기', 'NNG'), ('부여', 'NNG'), ('도', 'JX'), ('하', 'VV'), ('고', 'EC'), ('소통', 'NNG'), ('해요', 'XSV'), ('😁😁', 'SY'), ('#', 'SY'), ('좋', 'VA'), ('반', 'XPN'), ('가요', 'NNG'), ('#', 'SY'), ('맞', 'XPN'), ('팔', 'NR'), ('ㄱ', 'NNG'), ('ㄱ', 'NNG')]\n",
      "=======================================================================================================================================\n",
      "Okt\n",
      "=====\n",
      "[('#다이어트중이지만', 'Hashtag'), ('#헬창이지만', 'Hashtag'), ('#팔은커지고싶다', 'Hashtag'), ('#어불성설', 'Hashtag'), ('#', 'Punctuation'), ('어제', 'Noun'), ('팔', 'Modifier'), ('운동', 'Noun'), ('🔥', 'Foreign'), ('운동', 'Noun'), ('좋아하시는', 'Adjective'), ('분', 'Noun'), ('들', 'Suffix'), ('서로', 'Noun'), ('동기부여', 'Noun'), ('도', 'Josa'), ('하고', 'Verb'), ('소통', 'Noun'), ('해요', 'Verb'), ('😁😁', 'Foreign'), ('#좋반가요', 'Hashtag'), ('#맞팔ㄱㄱ', 'Hashtag')]\n",
      "=======================================================================================================================================\n",
      "Tc\n",
      "=====\n",
      "[('다이어트중', 'Hashtag_Noun'), ('이지만', 'Hashtag_Josa'), ('헬창', 'Hashtag_Noun'), ('이지만', 'Hashtag_Josa'), ('팔', 'Hashtag_Noun'), ('은', 'Hashtag_Josa'), ('커지고싶다', 'Hashtag_Verb'), ('어불성설', 'Hashtag_Noun'), ('#', 'Punctuation'), ('어제', 'Noun'), ('팔', 'Modifier'), ('운동', 'Noun'), ('🔥_fire', 'Emoji'), ('운동', 'Noun'), ('좋아하시는', 'Adjective'), ('분', 'Noun'), ('들', 'Suffix'), ('서로', 'Noun'), ('동기부여', 'Noun'), ('도', 'Josa'), ('하고', 'Verb'), ('소통', 'Noun'), ('해요', 'Verb'), ('😁_beaming_face_with_smiling_eyes', 'Emoji'), ('😁_beaming_face_with_smiling_eyes', 'Emoji'), ('좋', 'Hashtag_Adjective'), ('반가요', 'Hashtag_Noun'), ('맞팔', 'Hashtag_Noun'), ('ㄱㄱ', 'Hashtag_KoreanParticle')]\n"
     ]
    }
   ],
   "source": [
    "Analaysis_result(sample2)"
   ]
  },
  {
   "cell_type": "markdown",
   "metadata": {},
   "source": [
    "### 2. 모두의 말뭉치, corpus_ls[0]"
   ]
  },
  {
   "cell_type": "code",
   "execution_count": 17,
   "metadata": {},
   "outputs": [
    {
     "data": {
      "text/plain": [
       "146881"
      ]
     },
     "execution_count": 17,
     "metadata": {},
     "output_type": "execute_result"
    }
   ],
   "source": [
    "len(corpus_ls)"
   ]
  },
  {
   "cell_type": "code",
   "execution_count": 29,
   "metadata": {},
   "outputs": [
    {
     "data": {
      "text/plain": [
       "'. 맹고빙수 먹으러 갔다가 없어서 아쉬운대로 꿩대신닭🍧💛 다음엔 꼭 맹고빙수 먹어야지🥭 #HBD #내인생젤비싼빙수'"
      ]
     },
     "execution_count": 29,
     "metadata": {},
     "output_type": "execute_result"
    }
   ],
   "source": [
    "corpus_ls[2423]"
   ]
  },
  {
   "cell_type": "code",
   "execution_count": 34,
   "metadata": {},
   "outputs": [
    {
     "data": {
      "text/plain": [
       "'맛있는걸 먹었으니 23시간만 행복하게 굶어야지🥰 . . . . #한식좋아 #셀피 #selfie'"
      ]
     },
     "execution_count": 34,
     "metadata": {},
     "output_type": "execute_result"
    }
   ],
   "source": [
    "corpus_ls[10056]"
   ]
  },
  {
   "cell_type": "code",
   "execution_count": 42,
   "metadata": {},
   "outputs": [
    {
     "data": {
      "text/plain": [
       "'. #엄청하얀것처럼보이지만사실하얀건맞음 . #옛날로돌아가려고열심히다이어트중 #뿌듯 #이번달-5kg #화이팅팅 🤫마라탕 먹고싶어🤫'"
      ]
     },
     "execution_count": 42,
     "metadata": {},
     "output_type": "execute_result"
    }
   ],
   "source": [
    "corpus_ls[10067]"
   ]
  },
  {
   "cell_type": "code",
   "execution_count": 92,
   "metadata": {},
   "outputs": [
    {
     "data": {
      "text/plain": [
       "'. 메인풀장엔 걍 수영배울때 입던 원피스 셩복 입고 나왔어용 ㅋㅋ 단정한거 입으니 남편이 좋아하대요~😌 . 셩장엔 온수까지 틀어주고 날씨도 꽤 따땃해서 수영하기 넘 좋아용🏊 선수처럼 경쟁붙어서 서로 영법 자랑하며 힘 빼는듕.. 잇님들 맛점하셔용❤ . #수영#수영복#재밌다#부부여행#데이트#일상#칼맞팔#언팔엔언팔#전신사진#여행그램#sunnyday #today#좋반#팔로우'"
      ]
     },
     "execution_count": 92,
     "metadata": {},
     "output_type": "execute_result"
    }
   ],
   "source": [
    "corpus_ls[105644]"
   ]
  },
  {
   "cell_type": "code",
   "execution_count": 40,
   "metadata": {},
   "outputs": [],
   "source": [
    "def okt_tc(corpus):\n",
    "    print('okt==', okt.pos(corpus))\n",
    "    print('==========================================================================================================')\n",
    "    print('tc==',tc.tag(corpus))"
   ]
  },
  {
   "cell_type": "code",
   "execution_count": 71,
   "metadata": {
    "scrolled": false
   },
   "outputs": [
    {
     "name": "stdout",
     "output_type": "stream",
     "text": [
      "okt== [('🐶', 'Foreign'), ('나', 'Noun'), (',', 'Punctuation'), ('떨고있니', 'Verb'), ('?', 'Punctuation'), ('-', 'Punctuation'), ('#최민수아님', 'Hashtag'), ('#', 'Punctuation'), ('빙수', 'Noun'), ('처묵', 'Noun'), ('#', 'Punctuation'), ('춥다', 'Noun'), ('고', 'Josa'), ('오들오들', 'Noun'), ('#행님', 'Hashtag'), ('📟', 'Foreign'), ('#삐삐오셨슴까', 'Hashtag'), ('#여기', 'Hashtag'), ('#', 'Punctuation'), ('호출', 'Noun'), ('하', 'Suffix'), ('신분', 'Noun'), ('요', 'Josa'), ('-', 'Punctuation'), ('#개스타그램', 'Hashtag'), ('#', 'Punctuation'), ('댕댕', 'Noun'), ('이', 'Josa'), ('#', 'Punctuation'), ('멈머', 'Noun'), ('#', 'Punctuation'), ('노견', 'Noun'), ('만세', 'Noun')]\n",
      "==========================================================================================================\n",
      "tc== [('🐶_dog_face', 'Emoji'), ('나', 'Noun'), (',', 'Punctuation'), ('떨고있니', 'Verb'), ('?', 'Punctuation'), ('-', 'Punctuation'), ('최민수', 'Hashtag_Noun'), ('아님', 'Hashtag_Adjective'), ('빙수처묵', 'Hashtag_Noun'), ('춥다', 'Hashtag_Noun'), ('고', 'Hashtag_Josa'), ('오들오들', 'Hashtag_Noun'), ('행', 'Hashtag_Noun'), ('님', 'Hashtag_Suffix'), ('📟_pager', 'Emoji'), ('삐삐', 'Hashtag_Noun'), ('오셨', 'Hashtag_Verb'), ('슴', 'Hashtag_Noun'), ('까', 'Hashtag_Verb'), ('여기', 'Hashtag_Noun'), ('호출', 'Hashtag_Noun'), ('하', 'Hashtag_Suffix'), ('신분', 'Hashtag_Noun'), ('요', 'Hashtag_Josa'), ('-', 'Punctuation'), ('개스타그램', 'Hashtag_Noun'), ('댕댕', 'Hashtag_Noun'), ('이', 'Hashtag_Josa'), ('멈머', 'Hashtag_Noun'), ('노견만세', 'Hashtag_Noun')]\n"
     ]
    }
   ],
   "source": [
    "okt_tc(corpus_ls[10300])"
   ]
  },
  {
   "cell_type": "code",
   "execution_count": 85,
   "metadata": {},
   "outputs": [],
   "source": [
    "def Analaysis_result_2(corpus):\n",
    "    print('Mecab')\n",
    "    print('=====')\n",
    "    print(mecab.pos(corpus))\n",
    "    print('=======================================================================================================================================')\n",
    "    print('Okt')\n",
    "    print('=====')\n",
    "    print(okt.pos(corpus))\n",
    "    print('=======================================================================================================================================')\n",
    "    print('Tc')\n",
    "    print('=====')\n",
    "    print(tc.tag(corpus))"
   ]
  },
  {
   "cell_type": "code",
   "execution_count": 86,
   "metadata": {
    "scrolled": false
   },
   "outputs": [
    {
     "name": "stdout",
     "output_type": "stream",
     "text": [
      "Mecab\n",
      "=====\n",
      "[('.', 'SY'), ('맹', 'NNG'), ('고빙', 'NNG'), ('수', 'NNG'), ('먹', 'VV'), ('으러', 'EC'), ('갔', 'VV'), ('다가', 'EC'), ('없', 'VA'), ('어서', 'EC'), ('아쉬운', 'VA'), ('대로', 'NNB'), ('꿩', 'NNG'), ('대신', 'NNG'), ('닭', 'NNG'), ('🍧💛', 'SY'), ('다음', 'NNG'), ('엔', 'NNG'), ('꼭', 'MAG'), ('맹', 'NNG'), ('고', 'EC'), ('빙수', 'NNG'), ('먹', 'VV'), ('어야지', 'EC'), ('🥭', 'SY'), ('#', 'SY'), ('HBD', 'SL'), ('#', 'SY'), ('내', 'NP'), ('인생', 'NNG'), ('젤', 'MAG'), ('비싼', 'VA'), ('빙수', 'NNG')]\n",
      "=======================================================================================================================================\n",
      "Okt\n",
      "=====\n",
      "[('.', 'Punctuation'), ('맹고', 'Noun'), ('빙수', 'Noun'), ('먹으러', 'Verb'), ('갔다가', 'Verb'), ('없어서', 'Adjective'), ('아쉬운대로', 'Adjective'), ('꿩', 'Noun'), ('대신', 'Noun'), ('닭', 'Noun'), ('🍧💛', 'Foreign'), ('다음', 'Noun'), ('엔', 'Josa'), ('꼭', 'Noun'), ('맹고', 'Noun'), ('빙수', 'Noun'), ('먹어야지', 'Verb'), ('🥭', 'Foreign'), ('#HBD', 'Hashtag'), ('#내인생젤비싼빙수', 'Hashtag')]\n",
      "=======================================================================================================================================\n",
      "Tc\n",
      "=====\n",
      "[('.', 'Punctuation'), ('맹고', 'Noun'), ('빙수', 'Noun'), ('먹으러', 'Verb'), ('갔다가', 'Verb'), ('없어서', 'Adjective'), ('아쉬운대로', 'Adjective'), ('꿩', 'Noun'), ('대신', 'Noun'), ('닭', 'Noun'), ('🍧_shaved_ice', 'Emoji'), ('💛_yellow_heart', 'Emoji'), ('다음', 'Noun'), ('엔', 'Josa'), ('꼭', 'Noun'), ('맹고', 'Noun'), ('빙수', 'Noun'), ('먹어야지', 'Verb'), ('🥭_mango', 'Emoji'), ('HBD', 'Hashtag_Noun'), ('내인생젤', 'Hashtag_Noun'), ('비싼', 'Hashtag_Adjective'), ('빙수', 'Hashtag_Noun')]\n"
     ]
    }
   ],
   "source": [
    "Analaysis_result_2(corpus_ls[2423])"
   ]
  },
  {
   "cell_type": "markdown",
   "metadata": {},
   "source": [
    "### 3. 처리속도 비교(Mecab, Okt)"
   ]
  },
  {
   "cell_type": "code",
   "execution_count": 95,
   "metadata": {},
   "outputs": [
    {
     "name": "stdout",
     "output_type": "stream",
     "text": [
      "time : 27.310389518737793\n",
      "error : 0\n"
     ]
    }
   ],
   "source": [
    "# mecab\n",
    "import time\n",
    "\n",
    "start = time.time()\n",
    "error_count = 0\n",
    "\n",
    "for text in corpus_ls[:5000]:\n",
    "    try:\n",
    "        mecab.pos(text)\n",
    "    except:\n",
    "        error_count += 1\n",
    "        \n",
    "print(\"time :\", time.time() - start)\n",
    "print('error :', error_count)"
   ]
  },
  {
   "cell_type": "code",
   "execution_count": 96,
   "metadata": {},
   "outputs": [
    {
     "name": "stdout",
     "output_type": "stream",
     "text": [
      "time : 60.71971774101257\n",
      "error : 0\n"
     ]
    }
   ],
   "source": [
    "# okt\n",
    "start = time.time()\n",
    "error_count = 0\n",
    "\n",
    "for text in corpus_ls[:5000]:\n",
    "    try:\n",
    "        okt.pos(text)\n",
    "    except:\n",
    "        error_count += 1\n",
    "        \n",
    "print(\"time :\", time.time() - start)\n",
    "print('error :', error_count)"
   ]
  },
  {
   "cell_type": "code",
   "execution_count": null,
   "metadata": {},
   "outputs": [],
   "source": []
  }
 ],
 "metadata": {
  "kernelspec": {
   "display_name": "Python 3",
   "language": "python",
   "name": "python3"
  },
  "language_info": {
   "codemirror_mode": {
    "name": "ipython",
    "version": 3
   },
   "file_extension": ".py",
   "mimetype": "text/x-python",
   "name": "python",
   "nbconvert_exporter": "python",
   "pygments_lexer": "ipython3",
   "version": "3.7.6"
  }
 },
 "nbformat": 4,
 "nbformat_minor": 4
}
