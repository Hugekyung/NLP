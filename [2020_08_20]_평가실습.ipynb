{
  "nbformat": 4,
  "nbformat_minor": 0,
  "metadata": {
    "kernelspec": {
      "display_name": "Python 3",
      "language": "python",
      "name": "python3"
    },
    "language_info": {
      "codemirror_mode": {
        "name": "ipython",
        "version": 3
      },
      "file_extension": ".py",
      "mimetype": "text/x-python",
      "name": "python",
      "nbconvert_exporter": "python",
      "pygments_lexer": "ipython3",
      "version": "3.7.6"
    },
    "colab": {
      "name": "[2020.08.20]-평가실습.ipynb",
      "provenance": [],
      "include_colab_link": true
    }
  },
  "cells": [
    {
      "cell_type": "markdown",
      "metadata": {
        "id": "view-in-github",
        "colab_type": "text"
      },
      "source": [
        "<a href=\"https://colab.research.google.com/github/Hugekyung/NLP/blob/master/%5B2020_08_20%5D_%ED%8F%89%EA%B0%80%EC%8B%A4%EC%8A%B5.ipynb\" target=\"_parent\"><img src=\"https://colab.research.google.com/assets/colab-badge.svg\" alt=\"Open In Colab\"/></a>"
      ]
    },
    {
      "cell_type": "markdown",
      "metadata": {
        "id": "Dh3kGamrZEQU",
        "colab_type": "text"
      },
      "source": [
        "## 1번"
      ]
    },
    {
      "cell_type": "code",
      "metadata": {
        "id": "xupmkw3fZEQX",
        "colab_type": "code",
        "colab": {}
      },
      "source": [
        "import numpy as np"
      ],
      "execution_count": null,
      "outputs": []
    },
    {
      "cell_type": "code",
      "metadata": {
        "id": "wQlLeY9GZEQb",
        "colab_type": "code",
        "colab": {},
        "outputId": "7d2b7ff7-6365-42b3-bced-723c18536267"
      },
      "source": [
        "# matrix 수동 생성\n",
        "matrix = [[0, 0.5, 0, 0.5], [0.5, 0, 0, 0.5], [0, 0, 0, 1.0], [0.333, 0.333, 0.333, 0]]\n",
        "matrix = np.array(matrix)\n",
        "matrix"
      ],
      "execution_count": null,
      "outputs": [
        {
          "output_type": "execute_result",
          "data": {
            "text/plain": [
              "array([[0.   , 0.5  , 0.   , 0.5  ],\n",
              "       [0.5  , 0.   , 0.   , 0.5  ],\n",
              "       [0.   , 0.   , 0.   , 1.   ],\n",
              "       [0.333, 0.333, 0.333, 0.   ]])"
            ]
          },
          "metadata": {
            "tags": []
          },
          "execution_count": 77
        }
      ]
    },
    {
      "cell_type": "code",
      "metadata": {
        "id": "LrbUuOOHZEQj",
        "colab_type": "code",
        "colab": {}
      },
      "source": [
        "d = 0.85\n",
        "B_vertex_score = (1-d) + d * (0.5 + 0.333)"
      ],
      "execution_count": null,
      "outputs": []
    },
    {
      "cell_type": "code",
      "metadata": {
        "id": "YRXgNUWHZEQn",
        "colab_type": "code",
        "colab": {},
        "outputId": "096b2928-e082-4cee-b690-9beb91bbf86a"
      },
      "source": [
        "B_vertex_score"
      ],
      "execution_count": null,
      "outputs": [
        {
          "output_type": "execute_result",
          "data": {
            "text/plain": [
              "0.85805"
            ]
          },
          "metadata": {
            "tags": []
          },
          "execution_count": 81
        }
      ]
    },
    {
      "cell_type": "markdown",
      "metadata": {
        "id": "TCBdOKqhZEQq",
        "colab_type": "text"
      },
      "source": [
        "## 2번"
      ]
    },
    {
      "cell_type": "code",
      "metadata": {
        "id": "W8JjsKl3ZEQq",
        "colab_type": "code",
        "colab": {}
      },
      "source": [
        "doc_ls = ['바나나 사과 포도 포도',\n",
        "         '사과 포도',\n",
        "         '포도 바나나',\n",
        "         '짜장면 짬뽕 탕수육',\n",
        "         '볶음밥 탕수육',\n",
        "         '짜장면 짬뽕',\n",
        "         '라면 스시',\n",
        "         '스시',\n",
        "         '가츠동 스시 소바',\n",
        "         '된장찌개 김치찌개 김치',\n",
        "         '김치 된장',\n",
        "         '비빔밥 김치'\n",
        "         ]"
      ],
      "execution_count": null,
      "outputs": []
    },
    {
      "cell_type": "code",
      "metadata": {
        "id": "EEc5auzPZEQu",
        "colab_type": "code",
        "colab": {},
        "outputId": "8d736583-c2c2-4bc7-8064-eeb44dd0386d"
      },
      "source": [
        "from sklearn.feature_extraction.text import TfidfVectorizer\n",
        "from sklearn.decomposition import TruncatedSVD\n",
        "\n",
        "tfidf_vector = TfidfVectorizer()\n",
        "tfidf_vector"
      ],
      "execution_count": null,
      "outputs": [
        {
          "output_type": "execute_result",
          "data": {
            "text/plain": [
              "TfidfVectorizer(analyzer='word', binary=False, decode_error='strict',\n",
              "                dtype=<class 'numpy.float64'>, encoding='utf-8',\n",
              "                input='content', lowercase=True, max_df=1.0, max_features=None,\n",
              "                min_df=1, ngram_range=(1, 1), norm='l2', preprocessor=None,\n",
              "                smooth_idf=True, stop_words=None, strip_accents=None,\n",
              "                sublinear_tf=False, token_pattern='(?u)\\\\b\\\\w\\\\w+\\\\b',\n",
              "                tokenizer=None, use_idf=True, vocabulary=None)"
            ]
          },
          "metadata": {
            "tags": []
          },
          "execution_count": 26
        }
      ]
    },
    {
      "cell_type": "code",
      "metadata": {
        "id": "l5LEzpXQZEQy",
        "colab_type": "code",
        "colab": {},
        "outputId": "49cecaa2-463a-49a6-f909-c72021fb9a3c"
      },
      "source": [
        "tfidf = tfidf_vector.fit_transform(doc_ls)\n",
        "print(tfidf)"
      ],
      "execution_count": null,
      "outputs": [
        {
          "output_type": "stream",
          "text": [
            "  (0, 15)\t0.7806870451028085\n",
            "  (0, 9)\t0.4418867148991048\n",
            "  (0, 6)\t0.4418867148991048\n",
            "  (1, 15)\t0.662044442799776\n",
            "  (1, 9)\t0.7494645793884686\n",
            "  (2, 15)\t0.662044442799776\n",
            "  (2, 6)\t0.7494645793884686\n",
            "  (3, 14)\t0.5773502691896258\n",
            "  (3, 13)\t0.5773502691896258\n",
            "  (3, 12)\t0.5773502691896258\n",
            "  (4, 7)\t0.7586307126040724\n",
            "  (4, 14)\t0.6515208683486948\n",
            "  (5, 13)\t0.7071067811865476\n",
            "  (5, 12)\t0.7071067811865476\n",
            "  (6, 11)\t0.6043946600096447\n",
            "  (6, 5)\t0.7966850663542188\n",
            "  (7, 11)\t1.0\n",
            "  (8, 10)\t0.6231128431839633\n",
            "  (8, 0)\t0.6231128431839633\n",
            "  (8, 11)\t0.47271637301705055\n",
            "  (9, 1)\t0.47271637301705055\n",
            "  (9, 2)\t0.6231128431839633\n",
            "  (9, 4)\t0.6231128431839633\n",
            "  (10, 3)\t0.7966850663542188\n",
            "  (10, 1)\t0.6043946600096447\n",
            "  (11, 8)\t0.7966850663542188\n",
            "  (11, 1)\t0.6043946600096447\n"
          ],
          "name": "stdout"
        }
      ]
    },
    {
      "cell_type": "code",
      "metadata": {
        "id": "N1wjOu1SZEQ3",
        "colab_type": "code",
        "colab": {},
        "outputId": "a7400304-69f0-4477-d38f-244c2d3e0195"
      },
      "source": [
        "# 특이값 분해\n",
        "svd = TruncatedSVD(n_components=4)\n",
        "svd"
      ],
      "execution_count": null,
      "outputs": [
        {
          "output_type": "execute_result",
          "data": {
            "text/plain": [
              "TruncatedSVD(algorithm='randomized', n_components=4, n_iter=5,\n",
              "             random_state=None, tol=0.0)"
            ]
          },
          "metadata": {
            "tags": []
          },
          "execution_count": 32
        }
      ]
    },
    {
      "cell_type": "code",
      "metadata": {
        "id": "qtORci4VZEQ6",
        "colab_type": "code",
        "colab": {},
        "outputId": "74c71e5e-771e-47b3-eb89-24aad4cb4e6d"
      },
      "source": [
        "u = svd.fit_transform(tfidf)\n",
        "u"
      ],
      "execution_count": null,
      "outputs": [
        {
          "output_type": "execute_result",
          "data": {
            "text/plain": [
              "array([[ 1.00000000e+00, -5.23076396e-17, -4.30520923e-18,\n",
              "        -2.50904815e-17],\n",
              "       [ 8.48027961e-01,  1.38582527e-17,  9.22199117e-17,\n",
              "         9.88972765e-17],\n",
              "       [ 8.48027961e-01, -1.30058930e-16, -9.41827445e-17,\n",
              "        -9.19420603e-17],\n",
              "       [-6.93889390e-18, -1.13764157e-14,  9.74417029e-01,\n",
              "         2.96417303e-16],\n",
              "       [ 3.12250226e-17, -4.80829065e-15,  4.07721810e-01,\n",
              "        -3.09689719e-16],\n",
              "       [ 0.00000000e+00, -1.03282083e-14,  8.85014956e-01,\n",
              "         4.51262163e-16],\n",
              "       [ 4.16333634e-17,  8.00147095e-01,  9.23692115e-15,\n",
              "         3.53931108e-17],\n",
              "       [ 5.55111512e-17,  8.86398340e-01,  1.02122482e-14,\n",
              "        -1.41572443e-16],\n",
              "       [ 9.71445147e-17,  7.03397990e-01,  7.69743430e-15,\n",
              "        -1.06179332e-16],\n",
              "       [ 2.77555756e-17, -3.84663252e-16, -1.09485246e-15,\n",
              "         6.91474173e-01],\n",
              "       [ 0.00000000e+00,  1.15398976e-16,  2.86860905e-16,\n",
              "         7.57603151e-01],\n",
              "       [ 0.00000000e+00, -3.84663252e-17, -1.52992483e-16,\n",
              "         7.57603151e-01]])"
            ]
          },
          "metadata": {
            "tags": []
          },
          "execution_count": 33
        }
      ]
    },
    {
      "cell_type": "code",
      "metadata": {
        "id": "g7aMTaZbZEQ8",
        "colab_type": "code",
        "colab": {},
        "outputId": "e3b32f9d-88e8-45b7-d0da-1f4dc50f0c47"
      },
      "source": [
        "svd.components_[0].argsort()"
      ],
      "execution_count": null,
      "outputs": [
        {
          "output_type": "execute_result",
          "data": {
            "text/plain": [
              "array([ 8,  3, 10, 12, 13,  2, 14,  5,  1,  7,  4, 11,  0,  9,  6, 15],\n",
              "      dtype=int64)"
            ]
          },
          "metadata": {
            "tags": []
          },
          "execution_count": 49
        }
      ]
    },
    {
      "cell_type": "code",
      "metadata": {
        "id": "iMYsk1L2ZEQ_",
        "colab_type": "code",
        "colab": {},
        "outputId": "3a3b58f8-7ec0-4629-d9dd-9caf6e2015e3"
      },
      "source": [
        "words = tfidf_vector.get_feature_names()\n",
        "topic = [words[j] for j in svd.components_[i].argsort()[:-4:-1]]\n",
        "topic"
      ],
      "execution_count": null,
      "outputs": [
        {
          "output_type": "execute_result",
          "data": {
            "text/plain": [
              "['김치', '된장', '비빔밥']"
            ]
          },
          "metadata": {
            "tags": []
          },
          "execution_count": 103
        }
      ]
    },
    {
      "cell_type": "code",
      "metadata": {
        "id": "FpCfmsuLZERC",
        "colab_type": "code",
        "colab": {},
        "outputId": "2d5fdc65-74f5-47a7-d713-c1a799d671b8"
      },
      "source": [
        "print('상위 토픽 단어는 :', topic)"
      ],
      "execution_count": null,
      "outputs": [
        {
          "output_type": "stream",
          "text": [
            "상위 토픽 단어는 : ['김치', '된장', '비빔밥']\n"
          ],
          "name": "stdout"
        }
      ]
    },
    {
      "cell_type": "markdown",
      "metadata": {
        "id": "UTJcnrGYZERF",
        "colab_type": "text"
      },
      "source": [
        "## 3번"
      ]
    },
    {
      "cell_type": "code",
      "metadata": {
        "id": "rrG3NA5fZERF",
        "colab_type": "code",
        "colab": {}
      },
      "source": [
        "doc_ls = ['바나나 사과 포도 포도',\n",
        "         '사과 포도',\n",
        "         '포도 바나나',\n",
        "         '짜장면 짬뽕 탕수육',\n",
        "         '볶음밥 탕수육',\n",
        "         '짜장면 짬뽕',\n",
        "         '라면 스시',\n",
        "         '스시',\n",
        "         '가츠동 스시 소바',\n",
        "         '된장찌개 김치찌개 김치',\n",
        "         '김치 된장',\n",
        "         '비빔밥 김치'\n",
        "         ]"
      ],
      "execution_count": null,
      "outputs": []
    },
    {
      "cell_type": "code",
      "metadata": {
        "id": "EyyxpEfjZERH",
        "colab_type": "code",
        "colab": {}
      },
      "source": [
        "from gensim import corpora\n",
        "from gensim.models import LdaModel, TfidfModel"
      ],
      "execution_count": null,
      "outputs": []
    },
    {
      "cell_type": "markdown",
      "metadata": {
        "id": "fkuTGIYGZERK",
        "colab_type": "text"
      },
      "source": [
        "## 4번"
      ]
    },
    {
      "cell_type": "code",
      "metadata": {
        "id": "syiqXWhdZERK",
        "colab_type": "code",
        "colab": {}
      },
      "source": [
        "class Car():\n",
        "    car_count = 0\n",
        "    \n",
        "    def __init__(self, name, CC, product_year):\n",
        "        self.name = name\n",
        "        self.CC = CC\n",
        "        self.product_year = product_year\n",
        "        Car.car_count += 1\n",
        "        print('총 등록된 차량개수 : {}대'.format(Car.car_count))\n",
        "        \n",
        "    def Change_Name(self, new_name):\n",
        "        self.name = new_name\n",
        "        \n",
        "        return self.name\n",
        "    \n",
        "    def Print_CC():\n",
        "        if self.CC > 2000:\n",
        "            print('대형')\n",
        "        elif 1000 < self.CC < 2000:\n",
        "            print('중형')\n",
        "        else:\n",
        "            print('소형')\n",
        "        \n",
        "    "
      ],
      "execution_count": null,
      "outputs": []
    },
    {
      "cell_type": "code",
      "metadata": {
        "id": "PxDytJV8ZERM",
        "colab_type": "code",
        "colab": {},
        "outputId": "3f637d63-db29-4ae9-9d44-9faacbfd7fbc"
      },
      "source": [
        "car1 = Car('sm3', '2000', '2016')\n",
        "print(car1.Change_Name('pride'))\n",
        "car2 = Car('gv80', '3000', '2020')"
      ],
      "execution_count": null,
      "outputs": [
        {
          "output_type": "stream",
          "text": [
            "총 등록된 차량개수 : 1대\n",
            "pride\n",
            "총 등록된 차량개수 : 2대\n"
          ],
          "name": "stdout"
        }
      ]
    }
  ]
}