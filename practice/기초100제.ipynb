{
  "nbformat": 4,
  "nbformat_minor": 0,
  "metadata": {
    "colab": {
      "name": "기초100제.ipynb",
      "provenance": [],
      "collapsed_sections": [],
      "authorship_tag": "ABX9TyODANVvAZWOse4Sx5Y6iHVI",
      "include_colab_link": true
    },
    "kernelspec": {
      "name": "python3",
      "display_name": "Python 3"
    }
  },
  "cells": [
    {
      "cell_type": "markdown",
      "metadata": {
        "id": "view-in-github",
        "colab_type": "text"
      },
      "source": [
        "<a href=\"https://colab.research.google.com/github/Hugekyung/NLP/blob/master/practice/%EA%B8%B0%EC%B4%88100%EC%A0%9C.ipynb\" target=\"_parent\"><img src=\"https://colab.research.google.com/assets/colab-badge.svg\" alt=\"Open In Colab\"/></a>"
      ]
    },
    {
      "cell_type": "markdown",
      "metadata": {
        "id": "iMllp-1sHE-F"
      },
      "source": [
        "# 코드업 기초100제"
      ]
    },
    {
      "cell_type": "markdown",
      "metadata": {
        "id": "yewPwTt5HIly"
      },
      "source": [
        "## 문제1. 수 나열하기2 https://codeup.kr/problem.php?id=1090\n",
        "- 시작 값(a), 등비의 값(r), 몇 번째 인지를 나타내는 정수(n)가\n",
        "공백을 두고 입력된다.(모두 0 ~ 10)\n",
        "- n번째 수를 출력한다."
      ]
    },
    {
      "cell_type": "code",
      "metadata": {
        "id": "DBM24VqcECjL",
        "outputId": "d027d825-c014-4414-89c9-fbe63ee42b40",
        "colab": {
          "base_uri": "https://localhost:8080/",
          "height": 54
        }
      },
      "source": [
        "a, r, n = map(int, input().split())\n",
        "\n",
        "for _ in range(n-1):\n",
        "    a = a * r\n",
        "print(a)"
      ],
      "execution_count": 4,
      "outputs": [
        {
          "output_type": "stream",
          "text": [
            "2 3 7\n",
            "1458\n"
          ],
          "name": "stdout"
        }
      ]
    },
    {
      "cell_type": "code",
      "metadata": {
        "id": "QcRUrgC4JaGu",
        "outputId": "c6a7ac22-c620-4734-eda7-e24400ca7ef5",
        "colab": {
          "base_uri": "https://localhost:8080/",
          "height": 54
        }
      },
      "source": [
        "def math_1():\n",
        "    a, r, n = map(int, input().split())\n",
        "\n",
        "    for _ in range(n-1):\n",
        "        a = a * r\n",
        "\n",
        "    return a\n",
        "\n",
        "math_1()"
      ],
      "execution_count": 7,
      "outputs": [
        {
          "output_type": "stream",
          "text": [
            "2 3 7\n"
          ],
          "name": "stdout"
        },
        {
          "output_type": "execute_result",
          "data": {
            "text/plain": [
              "1458"
            ]
          },
          "metadata": {
            "tags": []
          },
          "execution_count": 7
        }
      ]
    },
    {
      "cell_type": "code",
      "metadata": {
        "id": "2FVrIeRGH2s1"
      },
      "source": [
        "n, m = map(int, input().split())\n",
        "\n",
        "graph = []\n",
        "for i in range(n):\n",
        "    graph.append(list(map(int, input())))\n",
        "\n",
        "dx = [-1, 1, 0, 0]\n",
        "dy = [0, 0, -1, 1]"
      ],
      "execution_count": null,
      "outputs": []
    }
  ]
}