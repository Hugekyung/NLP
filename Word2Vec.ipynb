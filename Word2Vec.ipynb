{
  "nbformat": 4,
  "nbformat_minor": 0,
  "metadata": {
    "colab": {
      "name": "Word2Vec.ipynb",
      "provenance": [],
      "collapsed_sections": [],
      "authorship_tag": "ABX9TyNC1gY4DUjPbj/r/N+nK6t+",
      "include_colab_link": true
    },
    "kernelspec": {
      "name": "python3",
      "display_name": "Python 3"
    }
  },
  "cells": [
    {
      "cell_type": "markdown",
      "metadata": {
        "id": "view-in-github",
        "colab_type": "text"
      },
      "source": [
        "<a href=\"https://colab.research.google.com/github/Hugekyung/NLP/blob/master/Word2Vec.ipynb\" target=\"_parent\"><img src=\"https://colab.research.google.com/assets/colab-badge.svg\" alt=\"Open In Colab\"/></a>"
      ]
    },
    {
      "cell_type": "markdown",
      "metadata": {
        "id": "0ilx_lmXqU5s",
        "colab_type": "text"
      },
      "source": [
        "CBoW"
      ]
    },
    {
      "cell_type": "code",
      "metadata": {
        "id": "BLUCzmr9gVSL",
        "colab_type": "code",
        "colab": {
          "base_uri": "https://localhost:8080/",
          "height": 34
        },
        "outputId": "47906217-56ca-4c90-f62b-7a2664d41ab0"
      },
      "source": [
        "import numpy as np\n",
        "from keras_preprocessing.text import Tokenizer\n",
        "from keras.utils import to_categorical\n",
        "\n",
        "text = 'you will never know until you try'\n",
        "tokens = text.split()\n",
        "uni_tokens = np.unique(tokens)\n",
        "uni_tokens"
      ],
      "execution_count": null,
      "outputs": [
        {
          "output_type": "execute_result",
          "data": {
            "text/plain": [
              "array(['know', 'never', 'try', 'until', 'will', 'you'], dtype='<U5')"
            ]
          },
          "metadata": {
            "tags": []
          },
          "execution_count": 129
        }
      ]
    },
    {
      "cell_type": "code",
      "metadata": {
        "id": "1jkxETQbk2Li",
        "colab_type": "code",
        "colab": {
          "base_uri": "https://localhost:8080/",
          "height": 140
        },
        "outputId": "fc2891a4-a3a3-4ea1-d85b-4464ef318808"
      },
      "source": [
        "from numpy import array\n",
        "from numpy import argmax\n",
        "from sklearn.preprocessing import LabelEncoder\n",
        "from sklearn.preprocessing import OneHotEncoder\n",
        "\n",
        "# 예제 데이터 배열\n",
        "values = array(tokens)\n",
        "\n",
        "# 문자열에 숫자를 붙임\n",
        "label_enc = LabelEncoder()\n",
        "int_enc = label_enc.fit_transform(values)\n",
        "\n",
        "# binary encode\n",
        "onehot_enc = OneHotEncoder(sparse=False)\n",
        "int_enc = int_enc.reshape(len(int_enc), 1) # n:1 matrix로 변환\n",
        "onehot_enc = onehot_enc.fit_transform(int_enc)\n",
        "print(onehot_enc)"
      ],
      "execution_count": null,
      "outputs": [
        {
          "output_type": "stream",
          "text": [
            "[[0. 0. 0. 0. 0. 1.]\n",
            " [0. 0. 0. 0. 1. 0.]\n",
            " [0. 1. 0. 0. 0. 0.]\n",
            " [1. 0. 0. 0. 0. 0.]\n",
            " [0. 0. 0. 1. 0. 0.]\n",
            " [0. 0. 0. 0. 0. 1.]\n",
            " [0. 0. 1. 0. 0. 0.]]\n"
          ],
          "name": "stdout"
        }
      ]
    },
    {
      "cell_type": "code",
      "metadata": {
        "id": "UadudmEI8ZlB",
        "colab_type": "code",
        "colab": {}
      },
      "source": [
        "# W초기화\n",
        "Hidden_node = 4\n",
        "W1 = np.random.randn(len(uni_tokens), Hidden_node)\n",
        "W2 = np.random.randn(Hidden_node,len(uni_tokens))"
      ],
      "execution_count": null,
      "outputs": []
    },
    {
      "cell_type": "code",
      "metadata": {
        "id": "Dt4hZtdPPUdT",
        "colab_type": "code",
        "colab": {}
      },
      "source": [
        "# y가 you, Xt+1 = will\n",
        "X = onehot_enc\n",
        "Y = X[0]\n",
        "\n",
        "Xt_1 = X[1]\n",
        "H = np.dot(Xt_1, W1)\n",
        "H = H.reshape(4,1)"
      ],
      "execution_count": null,
      "outputs": []
    },
    {
      "cell_type": "code",
      "metadata": {
        "id": "XFFbZraiTHf_",
        "colab_type": "code",
        "colab": {}
      },
      "source": [
        "def softmax(x):\n",
        "    return np.exp(x) / sum(np.exp(x))\n",
        "\n",
        "o = softmax(np.dot(W2.T, H))"
      ],
      "execution_count": null,
      "outputs": []
    },
    {
      "cell_type": "code",
      "metadata": {
        "id": "2PyqWSkDUCRV",
        "colab_type": "code",
        "colab": {
          "base_uri": "https://localhost:8080/",
          "height": 122
        },
        "outputId": "1bdf153d-930a-42fd-ef11-327b90ae4542"
      },
      "source": [
        "o"
      ],
      "execution_count": null,
      "outputs": [
        {
          "output_type": "execute_result",
          "data": {
            "text/plain": [
              "array([[0.1037768 ],\n",
              "       [0.26769512],\n",
              "       [0.52473957],\n",
              "       [0.02298816],\n",
              "       [0.00655838],\n",
              "       [0.07424198]])"
            ]
          },
          "metadata": {
            "tags": []
          },
          "execution_count": 144
        }
      ]
    },
    {
      "cell_type": "code",
      "metadata": {
        "id": "b1FTxtCGnfNP",
        "colab_type": "code",
        "colab": {}
      },
      "source": [
        "Y = Y.reshape(6,1)"
      ],
      "execution_count": null,
      "outputs": []
    },
    {
      "cell_type": "code",
      "metadata": {
        "id": "0hvzlWAxUMfJ",
        "colab_type": "code",
        "colab": {
          "base_uri": "https://localhost:8080/",
          "height": 34
        },
        "outputId": "a917542e-baaa-42a8-d6e4-77fdf1fc9ac2"
      },
      "source": [
        "# CrossEntropy\n",
        "loss = -(np.sum(Y * np.log(o)))\n",
        "loss"
      ],
      "execution_count": null,
      "outputs": [
        {
          "output_type": "execute_result",
          "data": {
            "text/plain": [
              "15.628485435851399"
            ]
          },
          "metadata": {
            "tags": []
          },
          "execution_count": 136
        }
      ]
    },
    {
      "cell_type": "code",
      "metadata": {
        "id": "CzxxOJdxcNqG",
        "colab_type": "code",
        "colab": {
          "base_uri": "https://localhost:8080/",
          "height": 122
        },
        "outputId": "c5196978-a98a-443c-a098-fbf7f9c2cfba"
      },
      "source": [
        "o = o-Y\n",
        "o\n",
        "# Y = Y.reshape(6,1)"
      ],
      "execution_count": null,
      "outputs": [
        {
          "output_type": "execute_result",
          "data": {
            "text/plain": [
              "array([[ 0.1037768 ],\n",
              "       [ 0.26769512],\n",
              "       [ 0.52473957],\n",
              "       [ 0.02298816],\n",
              "       [ 0.00655838],\n",
              "       [-0.92575802]])"
            ]
          },
          "metadata": {
            "tags": []
          },
          "execution_count": 147
        }
      ]
    }
  ]
}