{
  "nbformat": 4,
  "nbformat_minor": 0,
  "metadata": {
    "colab": {
      "name": "Exam_prac.ipynb",
      "provenance": [],
      "collapsed_sections": [],
      "authorship_tag": "ABX9TyP5vK8aMCsOXlO7MUHGsztO",
      "include_colab_link": true
    },
    "kernelspec": {
      "name": "python3",
      "display_name": "Python 3"
    }
  },
  "cells": [
    {
      "cell_type": "markdown",
      "metadata": {
        "id": "view-in-github",
        "colab_type": "text"
      },
      "source": [
        "<a href=\"https://colab.research.google.com/github/Hugekyung/NLP/blob/master/Exam_prac.ipynb\" target=\"_parent\"><img src=\"https://colab.research.google.com/assets/colab-badge.svg\" alt=\"Open In Colab\"/></a>"
      ]
    },
    {
      "cell_type": "markdown",
      "metadata": {
        "id": "0jq_aInKFqDb",
        "colab_type": "text"
      },
      "source": [
        "# 유사도 계산"
      ]
    },
    {
      "cell_type": "markdown",
      "metadata": {
        "id": "PTebpFoZFugI",
        "colab_type": "text"
      },
      "source": [
        "## 유클리디언 거리  \n",
        "<img src=\"https://upload.wikimedia.org/wikipedia/commons/thumb/5/55/Euclidean_distance_2d.svg/220px-Euclidean_distance_2d.svg.png\"  width=\"200\"/>\n",
        "\n",
        "<img src=\"https://wikimedia.org/api/rest_v1/media/math/render/svg/795b967db2917cdde7c2da2d1ee327eb673276c0\" width=\"350\"/>\n",
        "\n",
        "https://en.wikipedia.org/wiki/Euclidean_distance"
      ]
    },
    {
      "cell_type": "code",
      "metadata": {
        "id": "k738jYBHFcLa",
        "colab_type": "code",
        "colab": {}
      },
      "source": [
        "word_embedding_dic = {\n",
        "    '사과' : [1.0, 0.5],\n",
        "    '바나나' : [0.9, 1.2],\n",
        "    '원숭이' : [0.5, 1.5]\n",
        "}"
      ],
      "execution_count": null,
      "outputs": []
    },
    {
      "cell_type": "code",
      "metadata": {
        "id": "cduSYLgxGLXd",
        "colab_type": "code",
        "colab": {
          "base_uri": "https://localhost:8080/",
          "height": 34
        },
        "outputId": "62609c8f-96a0-4620-caad-7c06b59fb5aa"
      },
      "source": [
        "import numpy as np\n",
        "\n",
        "def euclidean_dist(x,y):\n",
        "    x = np.array(x)\n",
        "    y = np.array(y)\n",
        "    return np.sqrt(np.sum((x-y)**2))\n",
        "\n",
        "# 사과와 바나나의 코사인 유사도\n",
        "euclidean_dist(word_embedding_dic['사과'], word_embedding_dic['바나나'])"
      ],
      "execution_count": null,
      "outputs": [
        {
          "output_type": "execute_result",
          "data": {
            "text/plain": [
              "0.7071067811865475"
            ]
          },
          "metadata": {
            "tags": []
          },
          "execution_count": 4
        }
      ]
    },
    {
      "cell_type": "markdown",
      "metadata": {
        "id": "J0V3SianGvxf",
        "colab_type": "text"
      },
      "source": [
        "## 자카드 유사도  \n",
        "<img src=\"https://upload.wikimedia.org/wikipedia/commons/thumb/1/1f/Intersection_of_sets_A_and_B.svg/200px-Intersection_of_sets_A_and_B.svg.png\" />\n",
        "\n",
        "<img src=\"https://wikimedia.org/api/rest_v1/media/math/render/svg/eaef5aa86949f49e7dc6b9c8c3dd8b233332c9e7\" />\n",
        "\n",
        "https://en.wikipedia.org/wiki/Jaccard_index"
      ]
    },
    {
      "cell_type": "code",
      "metadata": {
        "id": "QtNxvdcRGt8c",
        "colab_type": "code",
        "colab": {
          "base_uri": "https://localhost:8080/",
          "height": 70
        },
        "outputId": "59268beb-f490-47f1-8479-db25154ff655"
      },
      "source": [
        "s1 = '대부분 원숭이는 바나나를 좋아합니다.'\n",
        "s2 = '코주부 원숭이는 바나나를 싫어합니다.'\n",
        "\n",
        "# 토큰화를 수행\n",
        "token_s1 = s1.split()\n",
        "token_s2 = s2.split()\n",
        "\n",
        "# token_s1과 token_s2의 합집합\n",
        "union = set(token_s1).union(set(token_s2))\n",
        "print(union)\n",
        "\n",
        "# token_s1과 token_s2의 교집합\n",
        "intersection = set(token_s1).intersection(set(token_s2))\n",
        "print(intersection)\n",
        "\n",
        "# 자카드 유사도 구하기\n",
        "print(len(intersection)/len(union))"
      ],
      "execution_count": null,
      "outputs": [
        {
          "output_type": "stream",
          "text": [
            "{'바나나를', '좋아합니다.', '싫어합니다.', '원숭이는', '코주부', '대부분'}\n",
            "{'바나나를', '원숭이는'}\n",
            "0.3333333333333333\n"
          ],
          "name": "stdout"
        }
      ]
    },
    {
      "cell_type": "markdown",
      "metadata": {
        "id": "zyDhCeX4H6jf",
        "colab_type": "text"
      },
      "source": [
        "## 코사인 유사도  \n",
        "*  두 벡터간의 유사도를 측정하는 방법 중 하나\n",
        "*  두 벡터 사이의 코사인을 측정\n",
        "*  0도 = 1, 90도 = 0, 180도 = -1   ==> 1에 가까울수록 유사도가 높음  \n",
        "\n",
        "<img src=\"https://www.oreilly.com/library/view/statistics-for-machine/9781788295758/assets/2b4a7a82-ad4c-4b2a-b808-e423a334de6f.png\" width=\"300\"/>\n",
        "\n",
        "<img src=\"https://wikimedia.org/api/rest_v1/media/math/render/svg/1d94e5903f7936d3c131e040ef2c51b473dd071d\" width='350'/>\n",
        "\n",
        "https://en.wikipedia.org/wiki/Cosine_similarity\n"
      ]
    },
    {
      "cell_type": "code",
      "metadata": {
        "id": "XbrcwwiUHO8Z",
        "colab_type": "code",
        "colab": {}
      },
      "source": [
        "def cosine_similarity(x,y):\n",
        "    nominator = np.dot(x,y) # 분자\n",
        "    denominator = np.linalg.norm(x) * np.linalg.norm(y) # 분모\n",
        "    return nominator / denominator"
      ],
      "execution_count": null,
      "outputs": []
    },
    {
      "cell_type": "code",
      "metadata": {
        "id": "ukoMwkXcIvNF",
        "colab_type": "code",
        "colab": {
          "base_uri": "https://localhost:8080/",
          "height": 34
        },
        "outputId": "c0e69873-06e6-46c1-b31e-32f135c90530"
      },
      "source": [
        "# 사과와 바나나의 코사인 유사도\n",
        "print(cosine_similarity(word_embedding_dic['사과'], word_embedding_dic['바나나']))"
      ],
      "execution_count": null,
      "outputs": [
        {
          "output_type": "stream",
          "text": [
            "0.8944271909999159\n"
          ],
          "name": "stdout"
        }
      ]
    },
    {
      "cell_type": "markdown",
      "metadata": {
        "id": "DlDDiQMRJ24y",
        "colab_type": "text"
      },
      "source": [
        "# TF-IDF를 활용한 유사도 계산  \n",
        "weighting schema|weight|설명\n",
        "--|--|--\n",
        "term frequency|<img src=\"https://wikimedia.org/api/rest_v1/media/math/render/svg/91699003abf4fe8bdf861bbce08e73e71acf5fd4\" />|=토큰빈도/문서내토큰빈도\n",
        "inverse document frequency|<img src=\"https://wikimedia.org/api/rest_v1/media/math/render/svg/864fcfdc0c16344c11509f724f1aa7081cf9f657\" />|=log(총문서갯수/(토큰이 등장한 문서수))"
      ]
    },
    {
      "cell_type": "code",
      "metadata": {
        "id": "yrH7gKEEI_F9",
        "colab_type": "code",
        "colab": {}
      },
      "source": [
        "d1 = \"The cat sat on my face I hate a cat\"\n",
        "d2 = \"The dog sat on my bed I love a dog\" "
      ],
      "execution_count": null,
      "outputs": []
    },
    {
      "cell_type": "code",
      "metadata": {
        "id": "wqraEvwEKC8j",
        "colab_type": "code",
        "colab": {
          "base_uri": "https://localhost:8080/",
          "height": 107
        },
        "outputId": "0a00d489-dc28-47d0-a339-7472b6a1c6f9"
      },
      "source": [
        "import numpy as np\n",
        "\n",
        "# 문서 토큰화\n",
        "def tokenizer(d):\n",
        "    return d.split()\n",
        "\n",
        "# 문서내 토큰이 등장한 빈도 수 계산\n",
        "def freq(t, d):\n",
        "    return d.count(t)\n",
        "\n",
        "# tf 계산\n",
        "def tf(t, d):\n",
        "    return freq(t,d)/len(d)\n",
        "\n",
        "# idf 계산\n",
        "def idf(t, D):\n",
        "    numerator = len(D)\n",
        "    denominator = len([True for d in D if t in d])\n",
        "    return np.log(numerator/denominator)\n",
        "\n",
        "# tf-idf 계산식\n",
        "def tfidf(t, d, D):\n",
        "    return tf(t,d)*idf(t,D)\n",
        "\n",
        "# tfidf 실제계산\n",
        "def tfidfscore(D):\n",
        "    docs = [tokenizer(d) for d in D] # 문서를 토큰화해서 docs리스트 생성\n",
        "    result = []\n",
        "    for d in docs:\n",
        "        result.append([(t, tfidf(t, d, docs)) for t in d])\n",
        "    return result\n",
        "\n",
        "corpus = [d1, d2]\n",
        "\n",
        "for i, doc in enumerate(tfidfscore(corpus)):\n",
        "    print('doc1=============')\n",
        "    print(doc)"
      ],
      "execution_count": null,
      "outputs": [
        {
          "output_type": "stream",
          "text": [
            "doc1=============\n",
            "[('The', 0.0), ('cat', 0.13862943611198905), ('sat', 0.0), ('on', 0.0), ('my', 0.0), ('face', 0.06931471805599453), ('I', 0.0), ('hate', 0.06931471805599453), ('a', 0.0), ('cat', 0.13862943611198905)]\n",
            "doc1=============\n",
            "[('The', 0.0), ('dog', 0.13862943611198905), ('sat', 0.0), ('on', 0.0), ('my', 0.0), ('bed', 0.06931471805599453), ('I', 0.0), ('love', 0.06931471805599453), ('a', 0.0), ('dog', 0.13862943611198905)]\n"
          ],
          "name": "stdout"
        }
      ]
    },
    {
      "cell_type": "code",
      "metadata": {
        "id": "G1-xpMgEPP1w",
        "colab_type": "code",
        "colab": {}
      },
      "source": [
        ""
      ],
      "execution_count": null,
      "outputs": []
    }
  ]
}