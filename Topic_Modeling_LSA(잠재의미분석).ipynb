{
  "nbformat": 4,
  "nbformat_minor": 0,
  "metadata": {
    "colab": {
      "name": "Topic Modeling_LSA(잠재의미분석).ipynb",
      "provenance": [],
      "collapsed_sections": [],
      "authorship_tag": "ABX9TyMTpp2EOV0K8Mo6YuZ7jhYa",
      "include_colab_link": true
    },
    "kernelspec": {
      "name": "python3",
      "display_name": "Python 3"
    }
  },
  "cells": [
    {
      "cell_type": "markdown",
      "metadata": {
        "id": "view-in-github",
        "colab_type": "text"
      },
      "source": [
        "<a href=\"https://colab.research.google.com/github/Hugekyung/NLP/blob/master/Topic_Modeling_LSA(%EC%9E%A0%EC%9E%AC%EC%9D%98%EB%AF%B8%EB%B6%84%EC%84%9D).ipynb\" target=\"_parent\"><img src=\"https://colab.research.google.com/assets/colab-badge.svg\" alt=\"Open In Colab\"/></a>"
      ]
    },
    {
      "cell_type": "code",
      "metadata": {
        "id": "PoV0HSIqOO5F",
        "colab_type": "code",
        "colab": {
          "base_uri": "https://localhost:8080/",
          "height": 72
        },
        "outputId": "58ee5beb-bdea-4960-9d3d-d4bf51244385"
      },
      "source": [
        "import numpy as np\n",
        "import pandas as pd\n",
        "from collections import defaultdict\n",
        "\n",
        "doc_ls = ['바나나 사과 포도 포도 짜장면',\n",
        "          '사과 포도',\n",
        "          '포도 바나나',\n",
        "          '짜장면 짬뽕 탕수육',\n",
        "          '볶음밥 탕수육',\n",
        "          '짜장면 짬뽕',\n",
        "          '라면 스시',\n",
        "          '스시 짜장면',\n",
        "          '가츠동 스시 소바',\n",
        "          '된장찌개 김치찌개 김치',\n",
        "          '김치 된장 짜장면',\n",
        "          '비빔밥 김치'\n",
        "          ]\n",
        "tokens = []\n",
        "for i in range(len(doc_ls)):\n",
        "    tokens.append(doc_ls[i].split())\n",
        "\n",
        "uni_token = []\n",
        "for i,v in enumerate(tokens):\n",
        "    for j, val in enumerate(v):\n",
        "        uni_token.append(val)\n",
        "uni_token = np.unique(uni_token)\n",
        "print(len(uni_token))\n",
        "print(doc_ls)"
      ],
      "execution_count": 1,
      "outputs": [
        {
          "output_type": "stream",
          "text": [
            "16\n",
            "['바나나 사과 포도 포도 짜장면', '사과 포도', '포도 바나나', '짜장면 짬뽕 탕수육', '볶음밥 탕수육', '짜장면 짬뽕', '라면 스시', '스시 짜장면', '가츠동 스시 소바', '된장찌개 김치찌개 김치', '김치 된장 짜장면', '비빔밥 김치']\n"
          ],
          "name": "stdout"
        }
      ]
    },
    {
      "cell_type": "code",
      "metadata": {
        "id": "SvDUje4hspu7",
        "colab_type": "code",
        "colab": {
          "base_uri": "https://localhost:8080/",
          "height": 34
        },
        "outputId": "ca859b1b-e533-4dc9-9ffb-286eef0ec767"
      },
      "source": [
        "# 각 고유 토큰에 인덱스 지정\n",
        "word2id = defaultdict(lambda : len(word2id))\n",
        "[word2id[token] for token in uni_token]\n",
        "\n",
        "id2word = { word2id[k]:k for k in word2id.keys()}\n",
        "len(word2id)\n"
      ],
      "execution_count": 2,
      "outputs": [
        {
          "output_type": "execute_result",
          "data": {
            "text/plain": [
              "16"
            ]
          },
          "metadata": {
            "tags": []
          },
          "execution_count": 2
        }
      ]
    },
    {
      "cell_type": "code",
      "metadata": {
        "id": "MYr_8TbNFpRU",
        "colab_type": "code",
        "colab": {
          "base_uri": "https://localhost:8080/",
          "height": 298
        },
        "outputId": "42ce696e-3119-4096-d644-b78f94f4a167"
      },
      "source": [
        "id2word"
      ],
      "execution_count": 6,
      "outputs": [
        {
          "output_type": "execute_result",
          "data": {
            "text/plain": [
              "{0: '가츠동',\n",
              " 1: '김치',\n",
              " 2: '김치찌개',\n",
              " 3: '된장',\n",
              " 4: '된장찌개',\n",
              " 5: '라면',\n",
              " 6: '바나나',\n",
              " 7: '볶음밥',\n",
              " 8: '비빔밥',\n",
              " 9: '사과',\n",
              " 10: '소바',\n",
              " 11: '스시',\n",
              " 12: '짜장면',\n",
              " 13: '짬뽕',\n",
              " 14: '탕수육',\n",
              " 15: '포도'}"
            ]
          },
          "metadata": {
            "tags": []
          },
          "execution_count": 6
        }
      ]
    },
    {
      "cell_type": "code",
      "metadata": {
        "id": "vdFEj2wylLi8",
        "colab_type": "code",
        "colab": {
          "base_uri": "https://localhost:8080/",
          "height": 34
        },
        "outputId": "a3a83b64-47b9-4085-9cd1-7afeb5ceb0a5"
      },
      "source": [
        "len(word2id)"
      ],
      "execution_count": 7,
      "outputs": [
        {
          "output_type": "execute_result",
          "data": {
            "text/plain": [
              "16"
            ]
          },
          "metadata": {
            "tags": []
          },
          "execution_count": 7
        }
      ]
    },
    {
      "cell_type": "code",
      "metadata": {
        "id": "ArwqZQTBmlUn",
        "colab_type": "code",
        "colab": {
          "base_uri": "https://localhost:8080/",
          "height": 527
        },
        "outputId": "66263c3b-09fd-4df8-8b73-8d25941fc4a8"
      },
      "source": [
        "# DTM생성\n",
        "\n",
        "# Matrix생성 16 x 12\n",
        "TDM = np.zeros((len(word2id), len(doc_ls)), dtype=int)\n",
        "print(TDM)\n",
        "for i, doc in enumerate(doc_ls):\n",
        "    print(doc)\n",
        "    for t in doc.split():\n",
        "        TDM[word2id[t], i] += 1\n",
        "\n",
        "len(TDM)\n"
      ],
      "execution_count": 8,
      "outputs": [
        {
          "output_type": "stream",
          "text": [
            "[[0 0 0 0 0 0 0 0 0 0 0 0]\n",
            " [0 0 0 0 0 0 0 0 0 0 0 0]\n",
            " [0 0 0 0 0 0 0 0 0 0 0 0]\n",
            " [0 0 0 0 0 0 0 0 0 0 0 0]\n",
            " [0 0 0 0 0 0 0 0 0 0 0 0]\n",
            " [0 0 0 0 0 0 0 0 0 0 0 0]\n",
            " [0 0 0 0 0 0 0 0 0 0 0 0]\n",
            " [0 0 0 0 0 0 0 0 0 0 0 0]\n",
            " [0 0 0 0 0 0 0 0 0 0 0 0]\n",
            " [0 0 0 0 0 0 0 0 0 0 0 0]\n",
            " [0 0 0 0 0 0 0 0 0 0 0 0]\n",
            " [0 0 0 0 0 0 0 0 0 0 0 0]\n",
            " [0 0 0 0 0 0 0 0 0 0 0 0]\n",
            " [0 0 0 0 0 0 0 0 0 0 0 0]\n",
            " [0 0 0 0 0 0 0 0 0 0 0 0]\n",
            " [0 0 0 0 0 0 0 0 0 0 0 0]]\n",
            "바나나 사과 포도 포도 짜장면\n",
            "사과 포도\n",
            "포도 바나나\n",
            "짜장면 짬뽕 탕수육\n",
            "볶음밥 탕수육\n",
            "짜장면 짬뽕\n",
            "라면 스시\n",
            "스시 짜장면\n",
            "가츠동 스시 소바\n",
            "된장찌개 김치찌개 김치\n",
            "김치 된장 짜장면\n",
            "비빔밥 김치\n"
          ],
          "name": "stdout"
        },
        {
          "output_type": "execute_result",
          "data": {
            "text/plain": [
              "16"
            ]
          },
          "metadata": {
            "tags": []
          },
          "execution_count": 8
        }
      ]
    },
    {
      "cell_type": "code",
      "metadata": {
        "id": "C-0-UmZe8pdG",
        "colab_type": "code",
        "colab": {
          "base_uri": "https://localhost:8080/",
          "height": 228
        },
        "outputId": "47e43e07-2d78-4902-d56a-41c40f7dcd93"
      },
      "source": [
        "# U, s, VT = np.linalg.svd(TDM[:-1].T)\n",
        "# print(U)\n",
        "topic_num = 4\n",
        "from sklearn.decomposition import randomized_svd\n",
        "U, s, VT = randomized_svd(TDM.T,\n",
        "                              n_components=topic_num,\n",
        "                              n_iter=10,\n",
        "                              random_state=None)\n",
        "U"
      ],
      "execution_count": 9,
      "outputs": [
        {
          "output_type": "execute_result",
          "data": {
            "text/plain": [
              "array([[ 0.79909178, -0.23631699,  0.01005289,  0.01866414],\n",
              "       [ 0.32422891, -0.2375544 ,  0.02301229,  0.05619723],\n",
              "       [ 0.32422891, -0.2375544 ,  0.02301229,  0.05619723],\n",
              "       [ 0.21208198,  0.48565893, -0.12813175, -0.43005064],\n",
              "       [ 0.02526658,  0.12189092, -0.05545517, -0.21541789],\n",
              "       [ 0.18924633,  0.38413621, -0.08554157, -0.26853634],\n",
              "       [ 0.02364425,  0.12564719, -0.32779721,  0.36853889],\n",
              "       [ 0.17200336,  0.34344312, -0.2877235 ,  0.18258982],\n",
              "       [ 0.02646113,  0.15718219, -0.46966719,  0.55314475],\n",
              "       [ 0.02972694,  0.20690983,  0.548939  ,  0.37187387],\n",
              "       [ 0.19323187,  0.45209802,  0.33628631,  0.12275337],\n",
              "       [ 0.0265624 ,  0.16539812,  0.38312378,  0.24776514]])"
            ]
          },
          "metadata": {
            "tags": []
          },
          "execution_count": 9
        }
      ]
    },
    {
      "cell_type": "code",
      "metadata": {
        "id": "CJ6zIwwXErPW",
        "colab_type": "code",
        "colab": {
          "base_uri": "https://localhost:8080/",
          "height": 228
        },
        "outputId": "fa309e72-14fb-47b0-a73c-7d0164ade668"
      },
      "source": [
        "U[:,:4]"
      ],
      "execution_count": 10,
      "outputs": [
        {
          "output_type": "execute_result",
          "data": {
            "text/plain": [
              "array([[ 0.79909178, -0.23631699,  0.01005289,  0.01866414],\n",
              "       [ 0.32422891, -0.2375544 ,  0.02301229,  0.05619723],\n",
              "       [ 0.32422891, -0.2375544 ,  0.02301229,  0.05619723],\n",
              "       [ 0.21208198,  0.48565893, -0.12813175, -0.43005064],\n",
              "       [ 0.02526658,  0.12189092, -0.05545517, -0.21541789],\n",
              "       [ 0.18924633,  0.38413621, -0.08554157, -0.26853634],\n",
              "       [ 0.02364425,  0.12564719, -0.32779721,  0.36853889],\n",
              "       [ 0.17200336,  0.34344312, -0.2877235 ,  0.18258982],\n",
              "       [ 0.02646113,  0.15718219, -0.46966719,  0.55314475],\n",
              "       [ 0.02972694,  0.20690983,  0.548939  ,  0.37187387],\n",
              "       [ 0.19323187,  0.45209802,  0.33628631,  0.12275337],\n",
              "       [ 0.0265624 ,  0.16539812,  0.38312378,  0.24776514]])"
            ]
          },
          "metadata": {
            "tags": []
          },
          "execution_count": 10
        }
      ]
    },
    {
      "cell_type": "code",
      "metadata": {
        "id": "yqZMhtHz-w12",
        "colab_type": "code",
        "colab": {
          "base_uri": "https://localhost:8080/",
          "height": 34
        },
        "outputId": "b877e91f-9a72-4735-cbf6-78c5fbf2e4d7"
      },
      "source": [
        "np.sum(s[:4])/np.sum(s) # (4,4)행렬 안에 가지고 있는  정보량이 약 56% 정도 된다"
      ],
      "execution_count": 11,
      "outputs": [
        {
          "output_type": "execute_result",
          "data": {
            "text/plain": [
              "1.0"
            ]
          },
          "metadata": {
            "tags": []
          },
          "execution_count": 11
        }
      ]
    },
    {
      "cell_type": "code",
      "metadata": {
        "id": "g9Iio_4i-yME",
        "colab_type": "code",
        "colab": {
          "base_uri": "https://localhost:8080/",
          "height": 228
        },
        "outputId": "71271efe-fca3-49ac-ebba-0789c9c6b2f2"
      },
      "source": [
        "print(VT)"
      ],
      "execution_count": 12,
      "outputs": [
        {
          "output_type": "stream",
          "text": [
            "[[ 0.0082077   0.07739641  0.00922069  0.0599366   0.00922069  0.00733397\n",
            "   0.34843127  0.00783718  0.00823912  0.34843127  0.0082077   0.06889362\n",
            "   0.48563449  0.12448389  0.0736207   0.69686254]\n",
            " [ 0.06425309  0.33700147  0.0845808   0.18480907  0.0845808   0.05136218\n",
            "  -0.19370961  0.04982669  0.06761161 -0.19370961  0.06425309  0.25600828\n",
            "   0.58415588  0.3555557   0.24835482 -0.38741921]\n",
            " [-0.22621639  0.61090353  0.26439785  0.16197315  0.26439785 -0.15788435\n",
            "   0.01592593 -0.02671012  0.18453253  0.01592593 -0.22621639 -0.52268348\n",
            "  -0.07468389 -0.10291629 -0.0884251   0.03185185]\n",
            " [ 0.27669846  0.37136542  0.1860217   0.06140467  0.1860217   0.18435345\n",
            "   0.03744775 -0.10775805  0.12393905  0.03744775  0.27669846  0.55238845\n",
            "  -0.18737521 -0.34945274 -0.3228814   0.07489549]]\n"
          ],
          "name": "stdout"
        }
      ]
    },
    {
      "cell_type": "code",
      "metadata": {
        "id": "Oc-BY7CZ-y6K",
        "colab_type": "code",
        "colab": {
          "base_uri": "https://localhost:8080/",
          "height": 298
        },
        "outputId": "3ab3fb60-b5a0-4da4-e8d8-65d16f769363"
      },
      "source": [
        "V = VT.T[:,:4]\n",
        "V"
      ],
      "execution_count": 13,
      "outputs": [
        {
          "output_type": "execute_result",
          "data": {
            "text/plain": [
              "array([[ 0.0082077 ,  0.06425309, -0.22621639,  0.27669846],\n",
              "       [ 0.07739641,  0.33700147,  0.61090353,  0.37136542],\n",
              "       [ 0.00922069,  0.0845808 ,  0.26439785,  0.1860217 ],\n",
              "       [ 0.0599366 ,  0.18480907,  0.16197315,  0.06140467],\n",
              "       [ 0.00922069,  0.0845808 ,  0.26439785,  0.1860217 ],\n",
              "       [ 0.00733397,  0.05136218, -0.15788435,  0.18435345],\n",
              "       [ 0.34843127, -0.19370961,  0.01592593,  0.03744775],\n",
              "       [ 0.00783718,  0.04982669, -0.02671012, -0.10775805],\n",
              "       [ 0.00823912,  0.06761161,  0.18453253,  0.12393905],\n",
              "       [ 0.34843127, -0.19370961,  0.01592593,  0.03744775],\n",
              "       [ 0.0082077 ,  0.06425309, -0.22621639,  0.27669846],\n",
              "       [ 0.06889362,  0.25600828, -0.52268348,  0.55238845],\n",
              "       [ 0.48563449,  0.58415588, -0.07468389, -0.18737521],\n",
              "       [ 0.12448389,  0.3555557 , -0.10291629, -0.34945274],\n",
              "       [ 0.0736207 ,  0.24835482, -0.0884251 , -0.3228814 ],\n",
              "       [ 0.69686254, -0.38741921,  0.03185185,  0.07489549]])"
            ]
          },
          "metadata": {
            "tags": []
          },
          "execution_count": 13
        }
      ]
    },
    {
      "cell_type": "code",
      "metadata": {
        "id": "iLApg4QyD54f",
        "colab_type": "code",
        "colab": {
          "base_uri": "https://localhost:8080/",
          "height": 1000
        },
        "outputId": "f3553d71-f882-4715-e451-4aad2f783e3e"
      },
      "source": [
        "topic1 = []\n",
        "topic2 = []\n",
        "topic3 = []\n",
        "topic4 = []\n",
        "\n",
        "for i in range(len(id2word)):\n",
        "    topic1.append(V[i][0])\n",
        "    topic2.append(V[i][1])\n",
        "    topic3.append(V[i][2])\n",
        "    topic4.append(V[i][3])\n",
        "\n",
        "for i in range(len(topic1)):\n",
        "    print('topic1_word : {} / 중요도 : {}'.format(id2word[i], topic1[i]))\n",
        "    print('topic2_word : {} / 중요도 : {}'.format(id2word[i], topic2[i]))\n",
        "    print('topic3_word : {} / 중요도 : {}'.format(id2word[i], topic3[i]))\n",
        "    print('topic4_word : {} / 중요도 : {}'.format(id2word[i], topic4[i]))\n",
        "    print('=====================================================')\n",
        "\n",
        "V_max = np.apply_along_axis(lambda a: np.max(a), 0, V) # 각 열의 최대값을 구한다\n",
        "V_max\n",
        "# for i in range(len(topic1)):\n",
        "#     if \n",
        "#     print('word : {} / 중요도 : {}'.format(id2word[i], topic1[i]))"
      ],
      "execution_count": 14,
      "outputs": [
        {
          "output_type": "stream",
          "text": [
            "topic1_word : 가츠동 / 중요도 : 0.008207704762125151\n",
            "topic2_word : 가츠동 / 중요도 : 0.06425308724872597\n",
            "topic3_word : 가츠동 / 중요도 : -0.22621638508821168\n",
            "topic4_word : 가츠동 / 중요도 : 0.2766984641841515\n",
            "=====================================================\n",
            "topic1_word : 김치 / 중요도 : 0.07739641277516954\n",
            "topic2_word : 김치 / 중요도 : 0.3370014719129778\n",
            "topic3_word : 김치 / 중요도 : 0.6109035277294065\n",
            "topic4_word : 김치 / 중요도 : 0.3713654174050663\n",
            "=====================================================\n",
            "topic1_word : 김치찌개 / 중요도 : 0.009220692812438385\n",
            "topic2_word : 김치찌개 / 중요도 : 0.08458080012362988\n",
            "topic3_word : 김치찌개 / 중요도 : 0.2643978491951754\n",
            "topic4_word : 김치찌개 / 중요도 : 0.186021703956787\n",
            "=====================================================\n",
            "topic1_word : 된장 / 중요도 : 0.05993660204089402\n",
            "topic2_word : 된장 / 중요도 : 0.18480906658701754\n",
            "topic3_word : 된장 / 중요도 : 0.1619731471621054\n",
            "topic4_word : 된장 / 중요도 : 0.06140466805460927\n",
            "=====================================================\n",
            "topic1_word : 된장찌개 / 중요도 : 0.009220692812438385\n",
            "topic2_word : 된장찌개 / 중요도 : 0.0845808001236299\n",
            "topic3_word : 된장찌개 / 중요도 : 0.2643978491951754\n",
            "topic4_word : 된장찌개 / 중요도 : 0.18602170395678677\n",
            "=====================================================\n",
            "topic1_word : 라면 / 중요도 : 0.007333965980468623\n",
            "topic2_word : 라면 / 중요도 : 0.05136218103567083\n",
            "topic3_word : 라면 / 중요도 : -0.15788434854991676\n",
            "topic4_word : 라면 / 중요도 : 0.1843534532983578\n",
            "=====================================================\n",
            "topic1_word : 바나나 / 중요도 : 0.34843126939944563\n",
            "topic2_word : 바나나 / 중요도 : -0.19370960648368352\n",
            "topic3_word : 바나나 / 중요도 : 0.015925926299599876\n",
            "topic4_word : 바나나 / 중요도 : 0.037447745735188734\n",
            "=====================================================\n",
            "topic1_word : 볶음밥 / 중요도 : 0.007837180587377477\n",
            "topic2_word : 볶음밥 / 중요도 : 0.049826689766937465\n",
            "topic3_word : 볶음밥 / 중요도 : -0.0267101214506209\n",
            "topic4_word : 볶음밥 / 중요도 : -0.10775804788052673\n",
            "=====================================================\n",
            "topic1_word : 비빔밥 / 중요도 : 0.008239117921837139\n",
            "topic2_word : 비빔밥 / 중요도 : 0.06761160520233055\n",
            "topic3_word : 비빔밥 / 중요도 : 0.1845325313721257\n",
            "topic4_word : 비빔밥 / 중요도 : 0.12393904539367022\n",
            "=====================================================\n",
            "topic1_word : 사과 / 중요도 : 0.3484312693994456\n",
            "topic2_word : 사과 / 중요도 : -0.19370960648368343\n",
            "topic3_word : 사과 / 중요도 : 0.015925926299599942\n",
            "topic4_word : 사과 / 중요도 : 0.03744774573518911\n",
            "=====================================================\n",
            "topic1_word : 소바 / 중요도 : 0.008207704762125238\n",
            "topic2_word : 소바 / 중요도 : 0.06425308724872603\n",
            "topic3_word : 소바 / 중요도 : -0.22621638508821174\n",
            "topic4_word : 소바 / 중요도 : 0.2766984641841515\n",
            "=====================================================\n",
            "topic1_word : 스시 / 중요도 : 0.06889361988605154\n",
            "topic2_word : 스시 / 중요도 : 0.2560082778375635\n",
            "topic3_word : 스시 / 중요도 : -0.5226834790874867\n",
            "topic4_word : 스시 / 중요도 : 0.5523884496346665\n",
            "=====================================================\n",
            "topic1_word : 짜장면 / 중요도 : 0.48563448882209026\n",
            "topic2_word : 짜장면 / 중요도 : 0.5841558837852072\n",
            "topic3_word : 짜장면 / 중요도 : -0.07468389066593781\n",
            "topic4_word : 짜장면 / 중요도 : -0.18737521391198658\n",
            "=====================================================\n",
            "topic1_word : 짬뽕 / 중요도 : 0.12448389316881989\n",
            "topic2_word : 짬뽕 / 중요도 : 0.35555569681875965\n",
            "topic3_word : 짬뽕 / 중요도 : -0.10291629259440607\n",
            "topic4_word : 짬뽕 / 중요도 : -0.34945273623175926\n",
            "=====================================================\n",
            "topic1_word : 탕수육 / 중요도 : 0.07362070424147575\n",
            "topic2_word : 탕수육 / 중요도 : 0.24835481633307588\n",
            "topic3_word : 탕수육 / 중요도 : -0.08842509935204866\n",
            "topic4_word : 탕수육 / 중요도 : -0.32288139950407135\n",
            "=====================================================\n",
            "topic1_word : 포도 / 중요도 : 0.6968625387988912\n",
            "topic2_word : 포도 / 중요도 : -0.3874192129673669\n",
            "topic3_word : 포도 / 중요도 : 0.03185185259919983\n",
            "topic4_word : 포도 / 중요도 : 0.07489549147037783\n",
            "=====================================================\n"
          ],
          "name": "stdout"
        },
        {
          "output_type": "execute_result",
          "data": {
            "text/plain": [
              "array([0.69686254, 0.58415588, 0.61090353, 0.55238845])"
            ]
          },
          "metadata": {
            "tags": []
          },
          "execution_count": 14
        }
      ]
    }
  ]
}