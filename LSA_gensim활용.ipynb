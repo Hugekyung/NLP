{
  "nbformat": 4,
  "nbformat_minor": 0,
  "metadata": {
    "colab": {
      "name": "LSA_gensim활용.ipynb",
      "provenance": [],
      "collapsed_sections": [],
      "authorship_tag": "ABX9TyP3wAh8fuznFijeSRDzMTRr",
      "include_colab_link": true
    },
    "kernelspec": {
      "name": "python3",
      "display_name": "Python 3"
    }
  },
  "cells": [
    {
      "cell_type": "markdown",
      "metadata": {
        "id": "view-in-github",
        "colab_type": "text"
      },
      "source": [
        "<a href=\"https://colab.research.google.com/github/Hugekyung/NLP/blob/master/LSA_gensim%ED%99%9C%EC%9A%A9.ipynb\" target=\"_parent\"><img src=\"https://colab.research.google.com/assets/colab-badge.svg\" alt=\"Open In Colab\"/></a>"
      ]
    },
    {
      "cell_type": "markdown",
      "metadata": {
        "id": "kVGu018lyKuH",
        "colab_type": "text"
      },
      "source": [
        "# gensim을 활용한 LSA"
      ]
    },
    {
      "cell_type": "markdown",
      "metadata": {
        "id": "pJS1P21n8KrH",
        "colab_type": "text"
      },
      "source": [
        "## 유사도 계산, 시각화를 위한 함수"
      ]
    },
    {
      "cell_type": "code",
      "metadata": {
        "id": "Uw1sO83T78-7",
        "colab_type": "code",
        "colab": {}
      },
      "source": [
        "import numpy as np\n",
        "from numpy import dot\n",
        "from numpy.linalg import norm\n",
        "\n",
        "def calc_similarity_matrix(vectors) :\n",
        "  def cosine_similarity(a, b) : \n",
        "    return dot(a, b)/(norm(a)*norm(b))\n",
        "\n",
        "  n_word = len(vectors)\n",
        "  similarity_matrix = np.zeros((n_word, n_word))\n",
        "\n",
        "  for i in range(n_word) :\n",
        "    for j in range(i, n_word) :\n",
        "      similarity_matrix[j, i] = cosine_similarity(vectors[i], vectors[j]).round(4)  \n",
        "\n",
        "  return similarity_matrix"
      ],
      "execution_count": null,
      "outputs": []
    },
    {
      "cell_type": "code",
      "metadata": {
        "id": "5fyxzWkk8G4m",
        "colab_type": "code",
        "colab": {
          "base_uri": "https://localhost:8080/",
          "height": 52
        },
        "outputId": "a05e1e1a-51a3-49e6-a3e6-f3c24a1af75e"
      },
      "source": [
        "import matplotlib.pyplot as plt\n",
        "import seaborn as sns\n",
        "\n",
        "def visualize_similarity(similarity_matrix) :\n",
        "  uniform_data = similarity_matrix\n",
        "  mask = np.triu(np.ones_like(similarity_matrix, dtype=np.bool))\n",
        "  plt.rcParams['figure.figsize'] = [8, 6]\n",
        "  ax = sns.heatmap(uniform_data, mask=mask, #xticklabels=features, yticklabels=features, \n",
        "                  annot=True, fmt=\".2f\",annot_kws={'size':8}, cmap='coolwarm')"
      ],
      "execution_count": null,
      "outputs": [
        {
          "output_type": "stream",
          "text": [
            "/usr/local/lib/python3.6/dist-packages/statsmodels/tools/_testing.py:19: FutureWarning: pandas.util.testing is deprecated. Use the functions in the public API at pandas.testing instead.\n",
            "  import pandas.util.testing as tm\n"
          ],
          "name": "stderr"
        }
      ]
    },
    {
      "cell_type": "code",
      "metadata": {
        "id": "Id5pGYs68Itw",
        "colab_type": "code",
        "colab": {}
      },
      "source": [
        "from sklearn.manifold import TSNE\n",
        "import numpy as np\n",
        "\n",
        "def visualize_vectors(vectors, labels):\n",
        "  tsne = TSNE(n_components=2, random_state=0, n_iter=10000, perplexity=2)\n",
        "  np.set_printoptions(suppress=True)\n",
        "  T = tsne.fit_transform(vectors)\n",
        "  #labels = vocab\n",
        "\n",
        "  plt.figure(figsize=(10, 6))\n",
        "  plt.scatter(T[:, 0], T[:, 1], c='orange', edgecolors='r')\n",
        "  for label, x, y in zip(labels, T[:, 0], T[:, 1]):\n",
        "      plt.annotate(label, xy=(x+1, y+1), xytext=(0, 0), textcoords='offset points')"
      ],
      "execution_count": null,
      "outputs": []
    },
    {
      "cell_type": "markdown",
      "metadata": {
        "id": "NCwpuU1lySdD",
        "colab_type": "text"
      },
      "source": [
        "## 1.토픽모델링"
      ]
    },
    {
      "cell_type": "code",
      "metadata": {
        "id": "WP6kyBe2xo5L",
        "colab_type": "code",
        "colab": {}
      },
      "source": [
        "docs = ['바나나 사과 포도 포도',\n",
        "        '사과 포도',\n",
        "        '포도 바나나',\n",
        "        '짜장면 짬뽕 탕수육',\n",
        "        '볶음밥 탕수육',\n",
        "        '짜장면 짬뽕',\n",
        "        '된장찌개 김치찌개 김치 비빔밥',\n",
        "        '김치 된장 비빔밥',\n",
        "        '비빔밥 김치',\n",
        "        '사과 볶음밥 김치 된장']"
      ],
      "execution_count": null,
      "outputs": []
    },
    {
      "cell_type": "code",
      "metadata": {
        "id": "boxRHGbHymlT",
        "colab_type": "code",
        "colab": {
          "base_uri": "https://localhost:8080/",
          "height": 193
        },
        "outputId": "368e8c13-0a3e-4a37-f6d7-42df3030da57"
      },
      "source": [
        "doc_ls = [doc.split() for doc in docs]\n",
        "doc_ls"
      ],
      "execution_count": null,
      "outputs": [
        {
          "output_type": "execute_result",
          "data": {
            "text/plain": [
              "[['바나나', '사과', '포도', '포도'],\n",
              " ['사과', '포도'],\n",
              " ['포도', '바나나'],\n",
              " ['짜장면', '짬뽕', '탕수육'],\n",
              " ['볶음밥', '탕수육'],\n",
              " ['짜장면', '짬뽕'],\n",
              " ['된장찌개', '김치찌개', '김치', '비빔밥'],\n",
              " ['김치', '된장', '비빔밥'],\n",
              " ['비빔밥', '김치'],\n",
              " ['사과', '볶음밥', '김치', '된장']]"
            ]
          },
          "metadata": {
            "tags": []
          },
          "execution_count": 23
        }
      ]
    },
    {
      "cell_type": "code",
      "metadata": {
        "id": "gS5FwHRVyuPD",
        "colab_type": "code",
        "colab": {
          "base_uri": "https://localhost:8080/",
          "height": 87
        },
        "outputId": "bd87ac3d-986d-4859-b3d6-6f0370298022"
      },
      "source": [
        "from gensim import corpora\n",
        "from gensim.models import LsiModel\n",
        "from gensim.models import TfidfModel\n",
        "\n",
        "n_dim = 4\n",
        "\n",
        "id2word = corpora.Dictionary(doc_ls)\n",
        "corpus_TDM = [id2word.doc2bow(text) for text in doc_ls]\n",
        "tfidf = TfidfModel(corpus_TDM) # train\n",
        "corpus_TFIDF = tfidf[corpus_TDM] # predict\n",
        "model_LSA = LsiModel(corpus_TFIDF, id2word=id2word, num_topics=n_dim)\n",
        "\n",
        "for top in model_LSA.print_topics(n_dim, 3):\n",
        "    print(top)"
      ],
      "execution_count": null,
      "outputs": [
        {
          "output_type": "stream",
          "text": [
            "(0, '0.688*\"포도\" + 0.450*\"사과\" + 0.429*\"바나나\"')\n",
            "(1, '0.553*\"비빔밥\" + 0.502*\"김치\" + 0.413*\"된장\"')\n",
            "(2, '-0.601*\"짜장면\" + -0.601*\"짬뽕\" + -0.448*\"탕수육\"')\n",
            "(3, '-0.643*\"볶음밥\" + 0.335*\"비빔밥\" + -0.321*\"탕수육\"')\n"
          ],
          "name": "stdout"
        }
      ]
    },
    {
      "cell_type": "code",
      "metadata": {
        "id": "RBDhHPRI5X7o",
        "colab_type": "code",
        "colab": {
          "base_uri": "https://localhost:8080/",
          "height": 228
        },
        "outputId": "2ada8945-4a05-4929-bff9-1c159dce4f3d"
      },
      "source": [
        "model_LSA.projection.u"
      ],
      "execution_count": null,
      "outputs": [
        {
          "output_type": "execute_result",
          "data": {
            "text/plain": [
              "array([[ 0.42907415, -0.22374629,  0.00586128,  0.16298737],\n",
              "       [ 0.45036418, -0.04247229, -0.00217236, -0.20464512],\n",
              "       [ 0.68834468, -0.31566149,  0.00727004,  0.11462753],\n",
              "       [ 0.02111362,  0.07999208, -0.60076233,  0.27104029],\n",
              "       [ 0.02111362,  0.07999208, -0.60076233,  0.27104029],\n",
              "       [ 0.05358556,  0.12182224, -0.44760134, -0.32127392],\n",
              "       [ 0.15182318,  0.22006537, -0.16731104, -0.64296515],\n",
              "       [ 0.19403609,  0.50155059,  0.11977961,  0.10452244],\n",
              "       [ 0.04066222,  0.14870366,  0.04990982,  0.19832509],\n",
              "       [ 0.04066222,  0.14870366,  0.04990982,  0.19832509],\n",
              "       [ 0.17195924,  0.55320806,  0.16244381,  0.33468532],\n",
              "       [ 0.2047169 ,  0.4130459 ,  0.06340543, -0.23079069]])"
            ]
          },
          "metadata": {
            "tags": []
          },
          "execution_count": 25
        }
      ]
    },
    {
      "cell_type": "code",
      "metadata": {
        "id": "Lh-FKsKk5clQ",
        "colab_type": "code",
        "colab": {
          "base_uri": "https://localhost:8080/",
          "height": 721
        },
        "outputId": "d11e0ef6-88f9-4502-b510-64f975e8a6cc"
      },
      "source": [
        "from gensim.matutils import sparse2full\n",
        "corpus_VT = model_LSA[corpus_TDM]\n",
        "VT = [sparse2full(doc_vector, n_dim).tolist() for doc_vector in corpus_VT]\n",
        "VT"
      ],
      "execution_count": null,
      "outputs": [
        {
          "output_type": "execute_result",
          "data": {
            "text/plain": [
              "[[2.2561275959014893,\n",
              "  -0.8975415825843811,\n",
              "  0.018228992819786072,\n",
              "  0.18759731948375702],\n",
              " [1.1387088298797607,\n",
              "  -0.3581337630748749,\n",
              "  0.005097671877592802,\n",
              "  -0.09001757949590683],\n",
              " [1.117418885231018,\n",
              "  -0.5394077897071838,\n",
              "  0.013131320476531982,\n",
              "  0.27761492133140564],\n",
              " [0.09581279754638672,\n",
              "  0.2818063795566559,\n",
              "  -1.6491260528564453,\n",
              "  0.22080665826797485],\n",
              " [0.2054087370634079,\n",
              "  0.34188762307167053,\n",
              "  -0.6149123907089233,\n",
              "  -0.9642390608787537],\n",
              " [0.04222723841667175,\n",
              "  0.15998415648937225,\n",
              "  -1.2015246152877808,\n",
              "  0.5420805811882019],\n",
              " [0.44731977581977844,\n",
              "  1.352165937423706,\n",
              "  0.3820430636405945,\n",
              "  0.8358579277992249],\n",
              " [0.5707122087478638,\n",
              "  1.4678045511245728,\n",
              "  0.34562885761260986,\n",
              "  0.20841707289218903],\n",
              " [0.365995317697525,\n",
              "  1.0547586679458618,\n",
              "  0.2822234332561493,\n",
              "  0.4392077624797821],\n",
              " [1.0009403228759766,\n",
              "  1.0921895503997803,\n",
              "  0.01370164379477501,\n",
              "  -0.9738785028457642]]"
            ]
          },
          "metadata": {
            "tags": []
          },
          "execution_count": 26
        }
      ]
    },
    {
      "cell_type": "markdown",
      "metadata": {
        "id": "fA77DhUo5Fdv",
        "colab_type": "text"
      },
      "source": [
        "## 2.단어벡터"
      ]
    },
    {
      "cell_type": "code",
      "metadata": {
        "id": "23b-TVzcz4fM",
        "colab_type": "code",
        "colab": {
          "base_uri": "https://localhost:8080/",
          "height": 228
        },
        "outputId": "c0862f4b-1f48-42ac-9301-9644419b74ad"
      },
      "source": [
        "for i in id2word.keys():\n",
        "    print(\"{} : {}\".format(id2word[i], model_LSA.projection.u[i]))"
      ],
      "execution_count": null,
      "outputs": [
        {
          "output_type": "stream",
          "text": [
            "바나나 : [ 0.42907415 -0.22374629  0.00586128  0.16298737]\n",
            "사과 : [ 0.45036418 -0.04247229 -0.00217236 -0.20464512]\n",
            "포도 : [ 0.68834468 -0.31566149  0.00727004  0.11462753]\n",
            "짜장면 : [ 0.02111362  0.07999208 -0.60076233  0.27104029]\n",
            "짬뽕 : [ 0.02111362  0.07999208 -0.60076233  0.27104029]\n",
            "탕수육 : [ 0.05358556  0.12182224 -0.44760134 -0.32127392]\n",
            "볶음밥 : [ 0.15182318  0.22006537 -0.16731104 -0.64296515]\n",
            "김치 : [0.19403609 0.50155059 0.11977961 0.10452244]\n",
            "김치찌개 : [0.04066222 0.14870366 0.04990982 0.19832509]\n",
            "된장찌개 : [0.04066222 0.14870366 0.04990982 0.19832509]\n",
            "비빔밥 : [0.17195924 0.55320806 0.16244381 0.33468532]\n",
            "된장 : [ 0.2047169   0.4130459   0.06340543 -0.23079069]\n"
          ],
          "name": "stdout"
        }
      ]
    },
    {
      "cell_type": "code",
      "metadata": {
        "id": "-ES1URWs59HK",
        "colab_type": "code",
        "colab": {
          "base_uri": "https://localhost:8080/",
          "height": 378
        },
        "outputId": "51090a3a-ed4a-4325-9b94-3e70d96462ab"
      },
      "source": [
        "word_vectors = model_LSA.projection.u\n",
        "word_similarity_matrix = calc_similarity_matrix(word_vectors)\n",
        "visualize_similarity(word_similarity_matrix)"
      ],
      "execution_count": null,
      "outputs": [
        {
          "output_type": "display_data",
          "data": {
            "image/png": "[encoded data removed]",
            "text/plain": [
              "<Figure size 576x432 with 2 Axes>"
            ]
          },
          "metadata": {
            "tags": [],
            "needs_background": "light"
          }
        }
      ]
    },
    {
      "cell_type": "markdown",
      "metadata": {
        "id": "GbhvnqIJ6Zzu",
        "colab_type": "text"
      },
      "source": [
        "## 3.문서벡터"
      ]
    },
    {
      "cell_type": "code",
      "metadata": {
        "id": "b7HhzVmZ6MO6",
        "colab_type": "code",
        "colab": {
          "base_uri": "https://localhost:8080/",
          "height": 374
        },
        "outputId": "73983fd9-f787-4740-b8e0-da179cb81e36"
      },
      "source": [
        "from gensim.matutils import  sparse2full\n",
        "corpus_V = model_LSA[corpus_TDM]\n",
        "V = [sparse2full(doc_vector, n_dim).tolist() for doc_vector in corpus_VT]\n",
        "\n",
        "doc_vectors = V\n",
        "doc_similarity_matrix = calc_similarity_matrix(doc_vectors)\n",
        "visualize_similarity(doc_similarity_matrix)"
      ],
      "execution_count": null,
      "outputs": [
        {
          "output_type": "display_data",
          "data": {
            "image/png": "[encoded data removed]",
            "text/plain": [
              "<Figure size 576x432 with 2 Axes>"
            ]
          },
          "metadata": {
            "tags": [],
            "needs_background": "light"
          }
        }
      ]
    },
    {
      "cell_type": "markdown",
      "metadata": {
        "id": "QYcvqFUU7SgV",
        "colab_type": "text"
      },
      "source": [
        "## 4.벡터시각화"
      ]
    },
    {
      "cell_type": "code",
      "metadata": {
        "id": "FGDG1r4X7Kex",
        "colab_type": "code",
        "colab": {
          "base_uri": "https://localhost:8080/",
          "height": 374
        },
        "outputId": "573c889f-1490-445c-de65-2fcf4bb5d5e1"
      },
      "source": [
        "vectors = word_vectors\n",
        "labels = [k for k in id2word.keys()]\n",
        "\n",
        "visualize_vectors(vectors, labels)"
      ],
      "execution_count": null,
      "outputs": [
        {
          "output_type": "display_data",
          "data": {
            "image/png": "[encoded data removed]",
            "text/plain": [
              "<Figure size 720x432 with 1 Axes>"
            ]
          },
          "metadata": {
            "tags": [],
            "needs_background": "light"
          }
        }
      ]
    },
    {
      "cell_type": "code",
      "metadata": {
        "id": "oFqnzTLl8O9B",
        "colab_type": "code",
        "colab": {}
      },
      "source": [
        ""
      ],
      "execution_count": null,
      "outputs": []
    }
  ]
}